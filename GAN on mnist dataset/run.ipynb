{
  "nbformat": 4,
  "nbformat_minor": 0,
  "metadata": {
    "kernelspec": {
      "display_name": "Python 3",
      "language": "python",
      "name": "python3"
    },
    "language_info": {
      "codemirror_mode": {
        "name": "ipython",
        "version": 3
      },
      "file_extension": ".py",
      "mimetype": "text/x-python",
      "name": "python",
      "nbconvert_exporter": "python",
      "pygments_lexer": "ipython3",
      "version": "3.8.6"
    },
    "colab": {
      "name": "run.ipynb",
      "provenance": [],
      "collapsed_sections": []
    },
    "accelerator": "GPU"
  },
  "cells": [
    {
      "cell_type": "code",
      "metadata": {
        "id": "J3FBMDe1LKLM"
      },
      "source": [
        "\"\"\"\n",
        "BIOINFORMATICS: LAB07\n",
        "@author: Irene Benedetto\n",
        "\"\"\"\n",
        "\n",
        "\n",
        "import tensorflow as tf\n",
        "import numpy as np\n",
        "from tqdm import tqdm\n",
        "from models import *\n",
        "\n",
        "\n",
        "def normalize(data, label):\n",
        "    data = tf.cast(data, tf.float32)/255.0\n",
        "    data = tf.expand_dims(data, axis=-1)\n",
        "    return data, label"
      ],
      "execution_count": 1,
      "outputs": []
    },
    {
      "cell_type": "code",
      "metadata": {
        "colab": {
          "base_uri": "https://localhost:8080/"
        },
        "id": "UfGfyTbmLKLP",
        "outputId": "2802ccc0-266c-4d18-fc5a-3d5f952baf84"
      },
      "source": [
        "mnist = tf.keras.datasets.mnist\n",
        "\n",
        "(train_images, train_labels), (test_images, test_labels) = mnist.load_data()\n",
        "\n",
        "images = tf.concat([train_images, test_images], axis = 0)\n",
        "labels = tf.concat([train_images, test_images], axis = 0)\n",
        "N_EPOCHS = 20\n",
        "BATCH_SIZE = 64\n",
        "\n",
        "train_ds = tf.data.Dataset.from_tensor_slices((images, labels))\n",
        "\n",
        "train_ds = train_ds.map(normalize, num_parallel_calls=tf.data.experimental.AUTOTUNE)\n",
        "train_ds = train_ds.shuffle(buffer_size=1024).batch(BATCH_SIZE).prefetch(BATCH_SIZE)\n",
        "\n",
        "input_shape = list(train_images.shape)[1:]\n",
        "output_shape = len(set(train_labels))\n",
        "latent_dim = 128\n",
        "\n",
        "print(f'Training set: {input_shape}')\n",
        "print(f'Number of classes: {output_shape}')\n",
        "\n",
        "input_shape = list(train_images.shape)[1:]\n",
        "output_shape = len(set(train_labels))\n",
        "latent_dim = 128\n",
        "\n",
        "print(f'Training set: {input_shape}')\n",
        "print(f'Number of classes: {output_shape}')\n",
        "\n"
      ],
      "execution_count": 2,
      "outputs": [
        {
          "output_type": "stream",
          "text": [
            "Training set: [28, 28]\n",
            "Number of classes: 10\n",
            "Training set: [28, 28]\n",
            "Number of classes: 10\n"
          ],
          "name": "stdout"
        }
      ]
    },
    {
      "cell_type": "code",
      "metadata": {
        "colab": {
          "base_uri": "https://localhost:8080/"
        },
        "id": "BSXPT6B8LKLQ",
        "outputId": "35b60ec5-e65b-4683-b221-0650706721e1"
      },
      "source": [
        "loss = tf.keras.losses.BinaryCrossentropy(from_logits=True)\n",
        "d_metrics = tf.keras.metrics.SparseCategoricalAccuracy(name='discriminator_accuracy')\n",
        "g_metrics = tf.keras.metrics.SparseCategoricalAccuracy(name='generator_accuracy')\n",
        "metrics = tf.keras.metrics.SparseCategoricalAccuracy(name='gan_accuracy')\n",
        "\n",
        "g_optimizer = tf.keras.optimizers.Adam(learning_rate=0.0003)\n",
        "d_optimizer = tf.keras.optimizers.Adam(learning_rate=0.0003)\n",
        "\n",
        "discriminator = Discriminator(input_shape=input_shape + [1], output_shape=1)\n",
        "discriminator.compile(loss, d_optimizer, d_metrics)\n",
        "\n",
        "generator = Generator(latent_dim=latent_dim)\n",
        "generator.compile(loss, g_optimizer, g_metrics)\n",
        "gan = GAN(generator=generator, discriminator=discriminator, latent_dim=latent_dim, BATCH_SIZE=BATCH_SIZE)\n",
        "\n",
        "gan.compile(loss, d_optimizer, g_optimizer, metrics)\n",
        "\n",
        "for epoch in range(N_EPOCHS):\n",
        "\n",
        "    losses = {\"discriminator_loss\": 0, \"generator_loss\": 0}\n",
        "    print(f'Epoch {epoch + 1}/{N_EPOCHS}')\n",
        "    for x, y in tqdm(train_ds):\n",
        "        history = gan.train_step((x, y))\n",
        "        losses['discriminator_loss'] += history['discriminator_loss']\n",
        "        losses['generator_loss'] += history['generator_loss']\n",
        "\n",
        "    print(f\"Discriminator loss: {losses['discriminator_loss']}\")\n",
        "    print(f\"Generator loss: {losses['generator_loss']}\")\n",
        "\n",
        "    random_latent_vectors = tf.random.normal(shape=(1, latent_dim))\n",
        "    generated_images = gan.generator(random_latent_vectors)\n",
        "    generated_images *= 255\n",
        "    generated_images.numpy()\n",
        "\n",
        "    img = tf.keras.preprocessing.image.array_to_img(generated_images[0])\n",
        "    img.save(\"synthetic_img_{epoch}.png\".format(epoch=epoch))\n",
        "\n"
      ],
      "execution_count": 3,
      "outputs": [
        {
          "output_type": "stream",
          "text": [
            "\r  0%|          | 0/1094 [00:00<?, ?it/s]"
          ],
          "name": "stderr"
        },
        {
          "output_type": "stream",
          "text": [
            "Epoch 1/20\n"
          ],
          "name": "stdout"
        },
        {
          "output_type": "stream",
          "text": [
            "100%|██████████| 1094/1094 [00:31<00:00, 34.55it/s]\n",
            "  0%|          | 1/1094 [00:00<02:44,  6.64it/s]"
          ],
          "name": "stderr"
        },
        {
          "output_type": "stream",
          "text": [
            "Discriminator loss: 537.7638549804688\n",
            "Generator loss: 1287.8514404296875\n",
            "Epoch 2/20\n"
          ],
          "name": "stdout"
        },
        {
          "output_type": "stream",
          "text": [
            "100%|██████████| 1094/1094 [00:29<00:00, 36.67it/s]\n",
            "  0%|          | 1/1094 [00:00<02:25,  7.54it/s]"
          ],
          "name": "stderr"
        },
        {
          "output_type": "stream",
          "text": [
            "Discriminator loss: 733.9061279296875\n",
            "Generator loss: 906.4324340820312\n",
            "Epoch 3/20\n"
          ],
          "name": "stdout"
        },
        {
          "output_type": "stream",
          "text": [
            "100%|██████████| 1094/1094 [00:30<00:00, 36.40it/s]\n",
            "  0%|          | 1/1094 [00:00<02:19,  7.82it/s]"
          ],
          "name": "stderr"
        },
        {
          "output_type": "stream",
          "text": [
            "Discriminator loss: 751.3807373046875\n",
            "Generator loss: 863.263916015625\n",
            "Epoch 4/20\n"
          ],
          "name": "stdout"
        },
        {
          "output_type": "stream",
          "text": [
            "100%|██████████| 1094/1094 [00:30<00:00, 36.37it/s]\n",
            "  0%|          | 1/1094 [00:00<02:04,  8.78it/s]"
          ],
          "name": "stderr"
        },
        {
          "output_type": "stream",
          "text": [
            "Discriminator loss: 744.859375\n",
            "Generator loss: 866.505615234375\n",
            "Epoch 5/20\n"
          ],
          "name": "stdout"
        },
        {
          "output_type": "stream",
          "text": [
            "100%|██████████| 1094/1094 [00:30<00:00, 36.24it/s]\n",
            "  0%|          | 1/1094 [00:00<02:12,  8.25it/s]"
          ],
          "name": "stderr"
        },
        {
          "output_type": "stream",
          "text": [
            "Discriminator loss: 738.5790405273438\n",
            "Generator loss: 897.722900390625\n",
            "Epoch 6/20\n"
          ],
          "name": "stdout"
        },
        {
          "output_type": "stream",
          "text": [
            "100%|██████████| 1094/1094 [00:30<00:00, 36.45it/s]\n",
            "  0%|          | 1/1094 [00:00<02:01,  9.00it/s]"
          ],
          "name": "stderr"
        },
        {
          "output_type": "stream",
          "text": [
            "Discriminator loss: 619.3616333007812\n",
            "Generator loss: 1146.2047119140625\n",
            "Epoch 7/20\n"
          ],
          "name": "stdout"
        },
        {
          "output_type": "stream",
          "text": [
            "100%|██████████| 1094/1094 [00:30<00:00, 35.75it/s]\n",
            "  0%|          | 1/1094 [00:00<02:06,  8.67it/s]"
          ],
          "name": "stderr"
        },
        {
          "output_type": "stream",
          "text": [
            "Discriminator loss: 747.6897583007812\n",
            "Generator loss: 963.7528686523438\n",
            "Epoch 8/20\n"
          ],
          "name": "stdout"
        },
        {
          "output_type": "stream",
          "text": [
            "100%|██████████| 1094/1094 [00:30<00:00, 36.34it/s]\n",
            "  0%|          | 1/1094 [00:00<02:14,  8.15it/s]"
          ],
          "name": "stderr"
        },
        {
          "output_type": "stream",
          "text": [
            "Discriminator loss: 777.7894287109375\n",
            "Generator loss: 872.8348999023438\n",
            "Epoch 9/20\n"
          ],
          "name": "stdout"
        },
        {
          "output_type": "stream",
          "text": [
            "100%|██████████| 1094/1094 [00:29<00:00, 36.59it/s]\n",
            "  0%|          | 1/1094 [00:00<02:22,  7.67it/s]"
          ],
          "name": "stderr"
        },
        {
          "output_type": "stream",
          "text": [
            "Discriminator loss: 732.620361328125\n",
            "Generator loss: 922.3572998046875\n",
            "Epoch 10/20\n"
          ],
          "name": "stdout"
        },
        {
          "output_type": "stream",
          "text": [
            "100%|██████████| 1094/1094 [00:29<00:00, 36.72it/s]\n",
            "  0%|          | 1/1094 [00:00<02:25,  7.51it/s]"
          ],
          "name": "stderr"
        },
        {
          "output_type": "stream",
          "text": [
            "Discriminator loss: 742.150390625\n",
            "Generator loss: 925.9978637695312\n",
            "Epoch 11/20\n"
          ],
          "name": "stdout"
        },
        {
          "output_type": "stream",
          "text": [
            "100%|██████████| 1094/1094 [00:29<00:00, 36.49it/s]\n",
            "  0%|          | 1/1094 [00:00<02:14,  8.13it/s]"
          ],
          "name": "stderr"
        },
        {
          "output_type": "stream",
          "text": [
            "Discriminator loss: 751.8447875976562\n",
            "Generator loss: 907.7006225585938\n",
            "Epoch 12/20\n"
          ],
          "name": "stdout"
        },
        {
          "output_type": "stream",
          "text": [
            "100%|██████████| 1094/1094 [00:29<00:00, 36.62it/s]\n",
            "  0%|          | 1/1094 [00:00<01:58,  9.24it/s]"
          ],
          "name": "stderr"
        },
        {
          "output_type": "stream",
          "text": [
            "Discriminator loss: 713.589111328125\n",
            "Generator loss: 948.6929931640625\n",
            "Epoch 13/20\n"
          ],
          "name": "stdout"
        },
        {
          "output_type": "stream",
          "text": [
            "100%|██████████| 1094/1094 [00:29<00:00, 36.52it/s]\n",
            "  0%|          | 1/1094 [00:00<02:32,  7.18it/s]"
          ],
          "name": "stderr"
        },
        {
          "output_type": "stream",
          "text": [
            "Discriminator loss: 729.646240234375\n",
            "Generator loss: 996.1788940429688\n",
            "Epoch 14/20\n"
          ],
          "name": "stdout"
        },
        {
          "output_type": "stream",
          "text": [
            "100%|██████████| 1094/1094 [00:29<00:00, 36.68it/s]\n",
            "  0%|          | 1/1094 [00:00<02:11,  8.28it/s]"
          ],
          "name": "stderr"
        },
        {
          "output_type": "stream",
          "text": [
            "Discriminator loss: 783.6210327148438\n",
            "Generator loss: 860.6781616210938\n",
            "Epoch 15/20\n"
          ],
          "name": "stdout"
        },
        {
          "output_type": "stream",
          "text": [
            "100%|██████████| 1094/1094 [00:29<00:00, 36.89it/s]\n",
            "  0%|          | 1/1094 [00:00<02:25,  7.51it/s]"
          ],
          "name": "stderr"
        },
        {
          "output_type": "stream",
          "text": [
            "Discriminator loss: 657.26220703125\n",
            "Generator loss: 1471.9725341796875\n",
            "Epoch 16/20\n"
          ],
          "name": "stdout"
        },
        {
          "output_type": "stream",
          "text": [
            "100%|██████████| 1094/1094 [00:29<00:00, 36.47it/s]\n",
            "  0%|          | 1/1094 [00:00<02:06,  8.62it/s]"
          ],
          "name": "stderr"
        },
        {
          "output_type": "stream",
          "text": [
            "Discriminator loss: 677.8019409179688\n",
            "Generator loss: 1546.230712890625\n",
            "Epoch 17/20\n"
          ],
          "name": "stdout"
        },
        {
          "output_type": "stream",
          "text": [
            "100%|██████████| 1094/1094 [00:30<00:00, 36.05it/s]\n",
            "  0%|          | 1/1094 [00:00<02:22,  7.69it/s]"
          ],
          "name": "stderr"
        },
        {
          "output_type": "stream",
          "text": [
            "Discriminator loss: 695.947998046875\n",
            "Generator loss: 1004.0736083984375\n",
            "Epoch 18/20\n"
          ],
          "name": "stdout"
        },
        {
          "output_type": "stream",
          "text": [
            "100%|██████████| 1094/1094 [00:29<00:00, 36.91it/s]\n",
            "  0%|          | 1/1094 [00:00<02:20,  7.78it/s]"
          ],
          "name": "stderr"
        },
        {
          "output_type": "stream",
          "text": [
            "Discriminator loss: 822.3173828125\n",
            "Generator loss: 839.575927734375\n",
            "Epoch 19/20\n"
          ],
          "name": "stdout"
        },
        {
          "output_type": "stream",
          "text": [
            "100%|██████████| 1094/1094 [00:30<00:00, 35.80it/s]\n",
            "  0%|          | 1/1094 [00:00<02:09,  8.46it/s]"
          ],
          "name": "stderr"
        },
        {
          "output_type": "stream",
          "text": [
            "Discriminator loss: 751.70458984375\n",
            "Generator loss: 902.0648803710938\n",
            "Epoch 20/20\n"
          ],
          "name": "stdout"
        },
        {
          "output_type": "stream",
          "text": [
            "100%|██████████| 1094/1094 [00:29<00:00, 36.88it/s]"
          ],
          "name": "stderr"
        },
        {
          "output_type": "stream",
          "text": [
            "Discriminator loss: 743.4371337890625\n",
            "Generator loss: 958.8997192382812\n"
          ],
          "name": "stdout"
        },
        {
          "output_type": "stream",
          "text": [
            "\n"
          ],
          "name": "stderr"
        }
      ]
    },
    {
      "cell_type": "code",
      "metadata": {
        "id": "RNtzctRdLtI8"
      },
      "source": [
        ""
      ],
      "execution_count": 3,
      "outputs": []
    }
  ]
}