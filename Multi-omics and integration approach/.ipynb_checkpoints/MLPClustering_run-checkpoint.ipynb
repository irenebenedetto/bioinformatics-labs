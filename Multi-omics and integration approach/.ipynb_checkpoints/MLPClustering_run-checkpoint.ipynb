{
 "cells": [
  {
   "cell_type": "code",
   "execution_count": 2,
   "metadata": {},
   "outputs": [],
   "source": [
    "\"\"\"\n",
    "BIOINFORMATICS: LAB08\n",
    "@author: Irene Benedetto\n",
    "\"\"\"\n",
    "from models import *\n",
    "from utils import *\n",
    "from tqdm import tqdm\n",
    "import tensorflow_addons as tfa\n",
    "\n",
    "\n",
    "tf.random.set_seed(3)\n",
    "np.random.seed(3)"
   ]
  },
  {
   "cell_type": "code",
   "execution_count": 3,
   "metadata": {},
   "outputs": [
    {
     "name": "stdout",
     "output_type": "stream",
     "text": [
      "Length of the transcriptome dataframe: (500, 131)\n",
      "Length of the genome dataframe: (500, 367)\n",
      "Length of the proteome dataframe: (500, 160)\n"
     ]
    }
   ],
   "source": [
    "transcriptome_df, genome_df, proteome_df, labels_df = create_dataframe()\n",
    "y_true = labels_df[\"cluster.id\"].values\n",
    "\n",
    "transcriptome_df = transcriptome_df.astype(np.float32)\n",
    "genome_df = genome_df.astype(np.float32)\n",
    "proteome_df = proteome_df.astype(np.float32)"
   ]
  },
  {
   "cell_type": "markdown",
   "metadata": {},
   "source": [
    "# Late integration approach "
   ]
  },
  {
   "cell_type": "markdown",
   "metadata": {},
   "source": [
    "## Trainscriptome dataset"
   ]
  },
  {
   "cell_type": "markdown",
   "metadata": {},
   "source": [
    "### Loading the model: MLPClustering"
   ]
  },
  {
   "cell_type": "code",
   "execution_count": 4,
   "metadata": {},
   "outputs": [
    {
     "name": "stdout",
     "output_type": "stream",
     "text": [
      "With transcriptome dataset\n",
      "Number of samples: 500\n",
      "Number of fts: 131\n",
      "Number of clusters: 5\n"
     ]
    }
   ],
   "source": [
    "# for the transcriptome dataset\n",
    "print(f'With transcriptome dataset')\n",
    "ds_shape = transcriptome_df.shape\n",
    "model = MLPClustering(input_shape=ds_shape, n_cetroids=5)\n",
    "loss = ClusteringLoss()\n",
    "optimizer = tfa.optimizers.SGDW(learning_rate=0.0001,weight_decay=0.1 )\n",
    "metrics = None\n",
    "model.compile(loss=loss, optimizer=optimizer, metrics=metrics)"
   ]
  },
  {
   "cell_type": "markdown",
   "metadata": {},
   "source": [
    "### Training"
   ]
  },
  {
   "cell_type": "code",
   "execution_count": 5,
   "metadata": {},
   "outputs": [
    {
     "name": "stdout",
     "output_type": "stream",
     "text": [
      "Epoch 27/30, loss: 5833.2412109375\n",
      "Accuracy: 0.8\n"
     ]
    }
   ],
   "source": [
    "X = np.asarray(transcriptome_df.values).astype(np.float32)\n",
    "N_EPOCHS = 30\n",
    "for epoch in range(N_EPOCHS):\n",
    "    history = model.train_step(X)\n",
    "    if (epoch+1)%4 == 0 or epoch == 0:\n",
    "        print(f'Epoch {epoch}/{N_EPOCHS}, loss: {history[\"loss\"]}', end='\\r')\n",
    "        \n",
    "        \n",
    "print()\n",
    "centroids = model(X)\n",
    "distance = tf.norm(X[:, None, :] - centroids[None, :, :], axis=-1)\n",
    "y_pred = tf.argmin(distance, axis=1).numpy() + 1\n",
    "accuracy, best_combination_transcriptome = clustering_accuracy(y_true, y_pred)\n",
    "transcriptome_probabilities = soft_clustering_weights(X, centroids, best_combination_transcriptome)\n",
    "print(f'Accuracy: {accuracy}')"
   ]
  },
  {
   "cell_type": "markdown",
   "metadata": {},
   "source": [
    "## Genome dataset"
   ]
  },
  {
   "cell_type": "markdown",
   "metadata": {},
   "source": [
    "### Loading the model: MLPClustering"
   ]
  },
  {
   "cell_type": "code",
   "execution_count": 6,
   "metadata": {},
   "outputs": [
    {
     "name": "stdout",
     "output_type": "stream",
     "text": [
      "\n",
      "With genome dataset\n",
      "Number of samples: 500\n",
      "Number of fts: 367\n",
      "Number of clusters: 5\n"
     ]
    }
   ],
   "source": [
    "# for the genome dataset\n",
    "print(f'\\nWith genome dataset')\n",
    "ds_shape = genome_df.shape\n",
    "model = MLPClustering(input_shape=ds_shape, n_cetroids=5)\n",
    "loss = ClusteringLoss()\n",
    "optimizer = tfa.optimizers.SGDW(learning_rate=0.0001,weight_decay=0.1 )\n",
    "metrics = None\n",
    "model.compile(loss=loss, optimizer=optimizer, metrics=metrics)"
   ]
  },
  {
   "cell_type": "markdown",
   "metadata": {},
   "source": [
    "### Training"
   ]
  },
  {
   "cell_type": "code",
   "execution_count": 7,
   "metadata": {},
   "outputs": [
    {
     "name": "stdout",
     "output_type": "stream",
     "text": [
      "Epoch 27/30, loss: 9694.5146484375\n",
      "Accuracy: 0.852\n"
     ]
    }
   ],
   "source": [
    "X = np.asarray(genome_df.values).astype(np.float32)\n",
    "N_EPOCHS = 30\n",
    "for epoch in range(N_EPOCHS):\n",
    "    history = model.train_step(X)\n",
    "    if (epoch+1)%4 == 0 or epoch == 0:\n",
    "        print(f'Epoch {epoch}/{N_EPOCHS}, loss: {history[\"loss\"]}', end='\\r')\n",
    "\n",
    "print()\n",
    "centroids = model(X)\n",
    "distance = tf.norm(X[:, None, :] - centroids[None, :, :], axis=-1)\n",
    "y_pred = tf.argmin(distance, axis=1).numpy() + 1\n",
    "accuracy, best_combination_genome = clustering_accuracy(y_true, y_pred)\n",
    "genome_probabilities = soft_clustering_weights(X, centroids, best_combination_genome)\n",
    "print(f'Accuracy: {accuracy}')"
   ]
  },
  {
   "cell_type": "markdown",
   "metadata": {},
   "source": [
    "## Proteome dataset"
   ]
  },
  {
   "cell_type": "markdown",
   "metadata": {},
   "source": [
    "### Loading the model: MLPClustering"
   ]
  },
  {
   "cell_type": "code",
   "execution_count": 8,
   "metadata": {},
   "outputs": [
    {
     "name": "stdout",
     "output_type": "stream",
     "text": [
      "\n",
      "With proteome dataset\n",
      "Number of samples: 500\n",
      "Number of fts: 160\n",
      "Number of clusters: 5\n"
     ]
    }
   ],
   "source": [
    "# for the proteome dataset\n",
    "print(f'\\nWith proteome dataset')\n",
    "ds_shape = proteome_df.shape\n",
    "model = MLPClustering(input_shape=ds_shape, n_cetroids=5)\n",
    "loss = ClusteringLoss()\n",
    "optimizer = tfa.optimizers.SGDW(learning_rate=0.0001,weight_decay=0.1 )\n",
    "metrics = None\n",
    "model.compile(loss=loss, optimizer=optimizer, metrics=metrics)"
   ]
  },
  {
   "cell_type": "markdown",
   "metadata": {},
   "source": [
    "### Training"
   ]
  },
  {
   "cell_type": "code",
   "execution_count": 9,
   "metadata": {},
   "outputs": [
    {
     "name": "stdout",
     "output_type": "stream",
     "text": [
      "Epoch 27/30, loss: 6390.32275390625\n",
      "Accuracy: 0.6\n"
     ]
    }
   ],
   "source": [
    "X = np.asarray(proteome_df.values).astype(np.float32)\n",
    "N_EPOCHS = 30\n",
    "for epoch in range(N_EPOCHS):\n",
    "    history = model.train_step(X)\n",
    "    if (epoch + 1) % 4 == 0 or epoch == 0:\n",
    "        print(f'Epoch {epoch}/{N_EPOCHS}, loss: {history[\"loss\"]}', end='\\r')\n",
    "\n",
    "print()\n",
    "centroids = model(X)\n",
    "distance = tf.norm(X[:, None, :] - centroids[None, :, :], axis=-1)\n",
    "y_pred = tf.argmin(distance, axis=1).numpy() + 1\n",
    "accuracy, best_combination_proteome = clustering_accuracy(y_true, y_pred)\n",
    "proteome_probabilities = soft_clustering_weights(X, centroids, best_combination_proteome)\n",
    "print(f'Accuracy: {accuracy}')"
   ]
  },
  {
   "cell_type": "markdown",
   "metadata": {},
   "source": [
    "## Late integration consensus building"
   ]
  },
  {
   "cell_type": "code",
   "execution_count": 10,
   "metadata": {},
   "outputs": [
    {
     "name": "stdout",
     "output_type": "stream",
     "text": [
      "\n",
      "Threshold: 0.2\n",
      "Number of unknown: 0\n",
      "Accuracy: 1.0\n"
     ]
    }
   ],
   "source": [
    "threshold = 0.2\n",
    "y_pred = []\n",
    "for sample in range(transcriptome_probabilities.shape[0]):\n",
    "    # for each sample extract the probabilities according to:\n",
    "    # - each features (on the colums)\n",
    "    #  - each class (on the row)\n",
    "    probabilities = [\n",
    "        \n",
    "        transcriptome_probabilities[sample, :],\n",
    "        genome_probabilities[sample, :],\n",
    "        proteome_probabilities[sample, :]\n",
    "    ]\n",
    "\n",
    "    probabilities = np.array(probabilities).T\n",
    "\n",
    "    S_a = np.sum(probabilities)\n",
    "    S_i = np.sum(probabilities, axis=1)\n",
    "    m = 3\n",
    "    S_m = S_i / m\n",
    "\n",
    "    if (np.max(S_i) / S_a < threshold) or (np.max(S_m) < threshold):\n",
    "        # in order to avoid problems with data type 0 means \"unknown\"\n",
    "        y = 0\n",
    "    else:\n",
    "        y = np.argmax(S_i) + 1\n",
    "    y_pred.append(y)\n",
    "\n",
    "y_pred = np.array(y_pred)\n",
    "n_unknown = len(np.where(y_pred == 0)[0])\n",
    "print(f'\\nThreshold: {threshold}')\n",
    "print(f'Number of unknown: {n_unknown}')\n",
    "\n",
    "accuracy, _ = clustering_accuracy(y_true, y_pred)\n",
    "print(f'Accuracy: {accuracy}')"
   ]
  },
  {
   "cell_type": "code",
   "execution_count": null,
   "metadata": {},
   "outputs": [],
   "source": []
  }
 ],
 "metadata": {
  "kernelspec": {
   "display_name": "Python 3",
   "language": "python",
   "name": "python3"
  },
  "language_info": {
   "codemirror_mode": {
    "name": "ipython",
    "version": 3
   },
   "file_extension": ".py",
   "mimetype": "text/x-python",
   "name": "python",
   "nbconvert_exporter": "python",
   "pygments_lexer": "ipython3",
   "version": "3.8.6"
  }
 },
 "nbformat": 4,
 "nbformat_minor": 4
}
