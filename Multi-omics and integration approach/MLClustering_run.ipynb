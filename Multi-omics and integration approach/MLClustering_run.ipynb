{
 "cells": [
  {
   "cell_type": "code",
   "execution_count": 1,
   "metadata": {},
   "outputs": [],
   "source": [
    "\"\"\"\n",
    "BIOINFORMATICS: LAB08\n",
    "@author: Irene Benedetto\n",
    "\"\"\"\n",
    "from utils import *\n",
    "import numpy as np\n",
    "import pandas as pd\n",
    "from sklearn.cluster import KMeans\n",
    "from sklearn.model_selection import train_test_split\n",
    "from sklearn.decomposition import PCA\n",
    "from sklearn.metrics import accuracy_score, silhouette_score\n",
    "import matplotlib\n",
    "import warnings\n",
    "matplotlib.use('Agg')\n",
    "import matplotlib.pyplot as plt\n",
    "warnings.simplefilter('ignore')"
   ]
  },
  {
   "cell_type": "code",
   "execution_count": 2,
   "metadata": {},
   "outputs": [
    {
     "name": "stdout",
     "output_type": "stream",
     "text": [
      "Length of the transcriptome dataframe: (500, 131)\n",
      "Length of the genome dataframe: (500, 367)\n",
      "Length of the proteome dataframe: (500, 160)\n"
     ]
    }
   ],
   "source": [
    "transcriptome_df, genome_df, proteome_df, labels_df = create_dataframe()\n",
    "\n",
    "transcriptome_df = transcriptome_df.astype(np.float32)\n",
    "genome_df = genome_df.astype(np.float32)\n",
    "proteome_df = proteome_df.astype(np.float32)\n",
    "\n",
    "y_true = labels_df[\"cluster.id\"].values"
   ]
  },
  {
   "cell_type": "markdown",
   "metadata": {},
   "source": [
    "# Early integration approach"
   ]
  },
  {
   "cell_type": "code",
   "execution_count": 3,
   "metadata": {},
   "outputs": [],
   "source": [
    "# EARLY INTEGRATION APPROACH\n",
    "df = pd.concat([transcriptome_df, genome_df, proteome_df], axis=1)"
   ]
  },
  {
   "cell_type": "markdown",
   "metadata": {},
   "source": [
    "## Dimensionality reduction"
   ]
  },
  {
   "cell_type": "code",
   "execution_count": 4,
   "metadata": {},
   "outputs": [
    {
     "name": "stdout",
     "output_type": "stream",
     "text": [
      "Proportion of variance explained with 50: 0.8676226735115051\n"
     ]
    }
   ],
   "source": [
    "N_FTS = 50\n",
    "selector = PCA(n_components=N_FTS)\n",
    "selector.fit(df)\n",
    "reduced_X_train = selector.transform(df)\n",
    "print(f'Proportion of variance explained with {N_FTS}: {np.sum(selector.explained_variance_ratio_)}')"
   ]
  },
  {
   "cell_type": "markdown",
   "metadata": {},
   "source": [
    "## Algorithms and hyperparameter tuning"
   ]
  },
  {
   "cell_type": "code",
   "execution_count": 5,
   "metadata": {},
   "outputs": [
    {
     "name": "stdout",
     "output_type": "stream",
     "text": [
      "Clustering with kmean\n",
      "Accuracy: 0.8\n",
      "Silhouette: 0.3856543302536011\n",
      "{1: 2, 2: 5, 3: 3, 4: 4, 5: 1}\n"
     ]
    }
   ],
   "source": [
    "print('Clustering with kmean')\n",
    "kmean = KMeans(n_clusters=5)\n",
    "kmean.fit(reduced_X_train)\n",
    "cetroids = kmean.cluster_centers_\n",
    "y_pred = kmean.predict(reduced_X_train)\n",
    "accuracy, best_combination = clustering_accuracy(y_true, y_pred)\n",
    "silhouette = silhouette_score(df, y_pred)\n",
    "\n",
    "print(f'Accuracy: {accuracy}')\n",
    "print(f'Silhouette: {silhouette}')\n",
    "print(best_combination)"
   ]
  },
  {
   "cell_type": "markdown",
   "metadata": {},
   "source": [
    "# Late integration approach"
   ]
  },
  {
   "cell_type": "markdown",
   "metadata": {},
   "source": [
    "## Algorithms and hyperparameter tuning"
   ]
  },
  {
   "cell_type": "code",
   "execution_count": 6,
   "metadata": {},
   "outputs": [
    {
     "name": "stdout",
     "output_type": "stream",
     "text": [
      "\n",
      "Transcriptome dataset\n",
      "Accuracy: 0.8\n",
      "Silhouette: 0.394550085067749\n",
      "Genome dataset\n",
      "Accuracy: 0.85\n",
      "Silhouette: 0.32901129126548767\n",
      "Proteome dataset\n",
      "Accuracy: 0.8\n",
      "Silhouette: 0.32901129126548767\n"
     ]
    }
   ],
   "source": [
    "# for each dataset transcriptome_df, genome_df, proteome_df we need to find the optimal\n",
    "# for the transcriptome dataframe\n",
    "print('\\nTranscriptome dataset')\n",
    "# implementing 4 different classifiers\n",
    "kmean = KMeans(n_clusters=5)\n",
    "kmean.fit(transcriptome_df)\n",
    "centroids = kmean.cluster_centers_\n",
    "y_pred = kmean.predict(transcriptome_df)\n",
    "accuracy, best_combination_transcriptome = clustering_accuracy(y_true, y_pred)\n",
    "silhouette = silhouette_score(transcriptome_df, y_pred)\n",
    "\n",
    "transcriptome_probabilities = soft_clustering_weights(transcriptome_df.values, centroids, best_combination_transcriptome)\n",
    "\n",
    "print(f'Accuracy: {accuracy}')\n",
    "print(f'Silhouette: {silhouette}')\n",
    "\n",
    "# for the genome dataframe\n",
    "print('Genome dataset')\n",
    "# implementing 4 different classifiers\n",
    "kmean = KMeans(n_clusters=5)\n",
    "kmean.fit(genome_df)\n",
    "centroids = kmean.cluster_centers_\n",
    "y_pred = kmean.predict(genome_df)\n",
    "accuracy, best_combination_genome = clustering_accuracy(y_true, y_pred)\n",
    "silhouette = silhouette_score(genome_df, y_pred)\n",
    "\n",
    "genome_probabilities = soft_clustering_weights(genome_df.values, centroids, best_combination_genome)\n",
    "print(f'Accuracy: {accuracy}')\n",
    "print(f'Silhouette: {silhouette}')\n",
    "\n",
    "# for the proteome dataframe\n",
    "print('Proteome dataset')\n",
    "kmean = KMeans(n_clusters=5)\n",
    "kmean.fit(proteome_df)\n",
    "centroids = kmean.cluster_centers_\n",
    "y_pred = kmean.predict(proteome_df)\n",
    "accuracy, best_combination_proteome = clustering_accuracy(y_true, y_pred)\n",
    "silhouette = silhouette_score(genome_df, y_pred)\n",
    "\n",
    "proteome_probabilities = soft_clustering_weights(proteome_df.values, centroids, best_combination_proteome)\n",
    "print(f'Accuracy: {accuracy}')\n",
    "print(f'Silhouette: {silhouette}')\n"
   ]
  },
  {
   "cell_type": "markdown",
   "metadata": {},
   "source": [
    "## Late integration consensus building"
   ]
  },
  {
   "cell_type": "code",
   "execution_count": 7,
   "metadata": {},
   "outputs": [
    {
     "name": "stdout",
     "output_type": "stream",
     "text": [
      "\n",
      "Threshold: 0.001\n",
      "Number of unknown: 0\n",
      "Accuracy: 0.786\n"
     ]
    }
   ],
   "source": [
    "threshold = 0.001\n",
    "y_pred = []\n",
    "for sample in range(transcriptome_probabilities.shape[0]):\n",
    "    # for each sample extract the probabilities according to:\n",
    "    # - each features (on the colums)\n",
    "    #  - each class (on the row)\n",
    "    probabilities = [\n",
    "        # (500, 5)\n",
    "        transcriptome_probabilities[sample, :],\n",
    "        genome_probabilities[sample, :],\n",
    "        proteome_probabilities[sample, :]\n",
    "    ]\n",
    "\n",
    "    probabilities = np.array(probabilities).T\n",
    "\n",
    "    S_a = np.sum(probabilities)\n",
    "    S_i = np.sum(probabilities, axis=1)\n",
    "    m = 3\n",
    "    S_m = S_i / m\n",
    "\n",
    "    if (np.max(S_i) / S_a < threshold) or (np.max(S_m) < threshold):\n",
    "        # in order to avoid problems with data type 0 means \"unknown\"\n",
    "        y = 0\n",
    "    else:\n",
    "        y = np.argmax(S_i) + 1\n",
    "    y_pred.append(y)\n",
    "\n",
    "y_pred = np.array(y_pred)\n",
    "n_unknown = len(np.where(y_pred == 0)[0])\n",
    "print(f'\\nThreshold: {threshold}')\n",
    "print(f'Number of unknown: {n_unknown}')\n",
    "\n",
    "accuracy, _ = clustering_accuracy(y_true, y_pred)\n",
    "print(f'Accuracy: {accuracy}')\n"
   ]
  },
  {
   "cell_type": "code",
   "execution_count": null,
   "metadata": {},
   "outputs": [],
   "source": []
  }
 ],
 "metadata": {
  "kernelspec": {
   "display_name": "Python 3",
   "language": "python",
   "name": "python3"
  },
  "language_info": {
   "codemirror_mode": {
    "name": "ipython",
    "version": 3
   },
   "file_extension": ".py",
   "mimetype": "text/x-python",
   "name": "python",
   "nbconvert_exporter": "python",
   "pygments_lexer": "ipython3",
   "version": "3.8.6"
  }
 },
 "nbformat": 4,
 "nbformat_minor": 4
}
