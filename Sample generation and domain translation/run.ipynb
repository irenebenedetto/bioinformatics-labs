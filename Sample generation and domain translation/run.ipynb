{
 "cells": [
  {
   "cell_type": "code",
   "execution_count": null,
   "metadata": {
    "colab": {
     "base_uri": "https://localhost:8080/"
    },
    "id": "vAin6BVU2nzZ",
    "outputId": "b616bd9c-5edf-4425-e634-b3f122e2bc9c"
   },
   "outputs": [
    {
     "name": "stdout",
     "output_type": "stream",
     "text": [
      "Archive:  dataset_5000samples.zip\n",
      "replace dataset_5000samples/clusters.txt? [y]es, [n]o, [A]ll, [N]one, [r]ename: no\n",
      "replace dataset_5000samples/meth.txt? [y]es, [n]o, [A]ll, [N]one, [r]ename: no\n",
      "replace dataset_5000samples/mRNA.txt? [y]es, [n]o, [A]ll, [N]one, [r]ename: no\n",
      "replace dataset_5000samples/prot.txt? [y]es, [n]o, [A]ll, [N]one, [r]ename: no\n"
     ]
    }
   ],
   "source": [
    "!unzip dataset_5000samples.zip"
   ]
  },
  {
   "cell_type": "code",
   "execution_count": null,
   "metadata": {
    "id": "D9wZy0lA0vgx"
   },
   "outputs": [],
   "source": [
    "import tensorflow as tf\n",
    "import pandas as pd\n",
    "import numpy as np\n",
    "from tqdm import tqdm\n",
    "from matplotlib import pyplot as plt\n",
    "from tensorflow.keras.layers import Input, Conv2D, MaxPooling2D, UpSampling2D, Dense, Flatten, Reshape, Conv1D, MaxPooling1D, UpSampling1D"
   ]
  },
  {
   "cell_type": "markdown",
   "metadata": {
    "id": "rgbtQPb52-X-"
   },
   "source": [
    "# GAN for mRNA samples generation"
   ]
  },
  {
   "cell_type": "markdown",
   "metadata": {
    "id": "HPKhq7l33ZhD"
   },
   "source": [
    "## The model"
   ]
  },
  {
   "cell_type": "code",
   "execution_count": null,
   "metadata": {
    "id": "W01ooD7K3YJH"
   },
   "outputs": [],
   "source": [
    "\"\"\"\n",
    "BIOINFORMATICS: LAB07\n",
    "@author: Irene Benedetto\n",
    "\"\"\"\n",
    "\n",
    "import tensorflow as tf\n",
    "\n",
    "# create the discriminator model\n",
    "class Discriminator(tf.keras.Model):\n",
    "    \"\"\"\n",
    "        This class constitute simple implemtation of a Discriminator model in\n",
    "        a Generative Adversarial Network. This model seeks to determine if a\n",
    "        image is generated artificially or comes from the real dataset.\n",
    "\n",
    "    \"\"\"\n",
    "\n",
    "    def __init__(self, input_shape, output_shape):\n",
    "        super(Discriminator, self).__init__()\n",
    "\n",
    "        self.conv1 = tf.keras.layers.Conv1D(32, 3, strides=2, padding='same', input_shape=input_shape)\n",
    "        self.relu1 = tf.keras.layers.LeakyReLU(alpha=0.2)\n",
    "        self.conv2 = tf.keras.layers.Conv1D(64, 3, padding='same')\n",
    "        self.relu2 = tf.keras.layers.LeakyReLU(alpha=0.2)\n",
    "        self.max_pool = tf.keras.layers.GlobalMaxPooling1D()\n",
    "        self.dense = tf.keras.layers.Dense(output_shape)\n",
    "        self.compiled_loss = None\n",
    "        self.optimizer = None\n",
    "        self.compiled_metrics = None\n",
    "\n",
    "    def compile(self, loss, optimizer, metrics):\n",
    "        self.compiled_loss = loss\n",
    "        self.optimizer = optimizer\n",
    "        self.compiled_metrics = metrics\n",
    "\n",
    "    def __call__(self, x):\n",
    "        x = self.conv1(x)\n",
    "        x = self.relu1(x)\n",
    "        x = self.conv2(x)\n",
    "        x = self.relu2(x)\n",
    "        x = self.max_pool(x)\n",
    "        x = self.dense(x)\n",
    "        return x\n",
    "\n",
    "    def train_step(self, data):\n",
    "        x, y = data\n",
    "        with tf.GradientTape() as tape:\n",
    "            y_pred = self(x)\n",
    "            # Compute the loss value\n",
    "            loss = self.compiled_loss(y, y_pred)\n",
    "\n",
    "        trainable_params = []\n",
    "        for layer in [self.conv1, self.conv2, self.dense]:\n",
    "            for param in layer.trainable_weights:\n",
    "                trainable_params.append(param)\n",
    "\n",
    "        gradients = tape.gradient(loss, trainable_params)\n",
    "        # Update weights\n",
    "        self.optimizer.apply_gradients(zip(gradients, trainable_params))\n",
    "        # Update metrics\n",
    "        self.compiled_metrics.update_state(y, y_pred)\n",
    "        # Return a dict mapping metric names to current value\n",
    "        return {'loss': loss, 'accuracy': self.compiled_metrics.result().numpy()}\n",
    "\n",
    "\n",
    "class Generator(tf.keras.Model):\n",
    "    \"\"\"\n",
    "        This class constitute simple implementation of a Generator model in\n",
    "        a Generative Adversarial Network. This model is trained to create new images\n",
    "        starting from a random noise vector of dimension = latent_dim.\n",
    "    \"\"\"\n",
    "\n",
    "    def __init__(self, latent_dim, output_shape):\n",
    "        super(Generator, self).__init__()\n",
    "\n",
    "        self.fc = tf.keras.layers.Dense(128, input_dim=latent_dim)\n",
    "        self.relu1 = tf.keras.layers.LeakyReLU(alpha=0.2)\n",
    "        self.reshape = tf.keras.layers.Reshape((1, 128))\n",
    "\n",
    "        self.conv1 = tf.keras.layers.Conv1DTranspose(64, 4, strides=1, padding=\"same\")\n",
    "        self.relu2 = tf.keras.layers.LeakyReLU(alpha=0.2)\n",
    "        self.dense = tf.keras.layers.Dense(output_shape[-1])\n",
    "\n",
    "        self.compiled_loss = None\n",
    "        self.optimizer = None\n",
    "        self.compiled_metrics = None\n",
    "\n",
    "    def compile(self, loss, optimizer, metrics):\n",
    "        self.compiled_loss = loss\n",
    "        self.optimizer = optimizer\n",
    "        self.compiled_metrics = metrics\n",
    "        \n",
    "    def __call__(self, x):\n",
    "        x = self.fc(x)\n",
    "        x = self.relu1(x)\n",
    "        x = self.reshape(x)\n",
    "        x = self.conv1(x)\n",
    "        x = self.relu2(x)\n",
    "        x = self.dense(x)\n",
    "        return x\n",
    "\n",
    "    def train_step(self, data):\n",
    "        x, y = data\n",
    "        with tf.GradientTape() as tape:\n",
    "            y_pred = self(x)\n",
    "            # Compute the loss value\n",
    "            loss = self.compiled_loss(y, y_pred)\n",
    "\n",
    "        trainable_params = []\n",
    "        for layer in [self.fc, self.conv1, self.conv2, self.conv3]:\n",
    "            for param in layer.trainable_weights:\n",
    "                trainable_params.append(param)\n",
    "\n",
    "        gradients = tape.gradient(loss, trainable_params)\n",
    "        # Update weights\n",
    "        self.optimizer.apply_gradients(zip(gradients, trainable_params))\n",
    "        # Update metrics\n",
    "        self.compiled_metrics.update_state(y, y_pred)\n",
    "        # Return a dict mapping metric names to current value\n",
    "        return {'loss': loss, 'accuracy': self.compiled_metrics.result().numpy()}\n",
    "\n",
    "\n",
    "class GAN(tf.keras.Model):\n",
    "    def __init__(self, generator, discriminator, latent_dim, BATCH_SIZE):\n",
    "        super(GAN, self).__init__()\n",
    "        self.generator = generator\n",
    "        self.discriminator = discriminator\n",
    "        self.latent_dim = latent_dim\n",
    "        self.BATCH_SIZE = BATCH_SIZE\n",
    "\n",
    "        self.compiled_loss = None\n",
    "        self.d_optimizer = None\n",
    "        self.g_optimizer = None\n",
    "        self.gan_metrics = None\n",
    "\n",
    "    def compile(self, loss, d_optimizer, g_optimizer, metrics):\n",
    "        super(GAN, self).compile()\n",
    "        self.d_optimizer = d_optimizer\n",
    "        self.g_optimizer = g_optimizer\n",
    "        self.loss_fn = loss\n",
    "\n",
    "    def train_step(self, real_data):\n",
    "        (real_img, _) = real_data\n",
    "        n_images = len(real_img)\n",
    "\n",
    "        # label 1 means fake\n",
    "        # label 0 means true\n",
    "\n",
    "        # create random noise and fake images\n",
    "        rand_noise = tf.random.normal(shape=(self.BATCH_SIZE, self.latent_dim), dtype=tf.float32)\n",
    "        fake_img = self.generator(rand_noise)\n",
    "        real_img = tf.cast(real_img, dtype=tf.float32)\n",
    "        \n",
    "        # Combine them with real images\n",
    "        images = tf.concat([fake_img, real_img], axis=0)\n",
    "\n",
    "        y = tf.concat([tf.ones((self.BATCH_SIZE, 1)), tf.zeros((n_images, 1))], axis=0)\n",
    "        # Add random noise to the labels - important trick!\n",
    "        y += 0.05 * tf.random.uniform(tf.shape(y))\n",
    "\n",
    "        # Train the discriminator\n",
    "        with tf.GradientTape() as tape:\n",
    "            y_pred = self.discriminator(images)\n",
    "            discriminator_loss = self.loss_fn(y, y_pred)\n",
    "\n",
    "        grads = tape.gradient(discriminator_loss, self.discriminator.trainable_weights)\n",
    "        self.d_optimizer.apply_gradients(zip(grads, self.discriminator.trainable_weights))\n",
    "\n",
    "        # Sample again new random points in the latent space\n",
    "        random_latent_vectors = tf.random.normal(shape=(self.BATCH_SIZE, self.latent_dim))\n",
    "\n",
    "        # Assemble labels that say \"all real images\"\n",
    "        misleading_labels = tf.zeros((self.BATCH_SIZE, 1))\n",
    "\n",
    "        # Train the generator (note that we should *not* update the weights\n",
    "        # of the discriminator): it is trained to confuse!\n",
    "        with tf.GradientTape() as tape:\n",
    "            y_pred = self.discriminator(self.generator(random_latent_vectors))\n",
    "            generator_loss = self.loss_fn(misleading_labels, y_pred)\n",
    "\n",
    "        grads = tape.gradient(generator_loss, self.generator.trainable_weights)\n",
    "        self.g_optimizer.apply_gradients(zip(grads, self.generator.trainable_weights))\n",
    "        return {\"discriminator_loss\": discriminator_loss, \"generator_loss\": generator_loss}\n",
    "\n"
   ]
  },
  {
   "cell_type": "code",
   "execution_count": null,
   "metadata": {
    "colab": {
     "base_uri": "https://localhost:8080/",
     "height": 253
    },
    "id": "kLhfsbLx3SfP",
    "outputId": "80097bc3-a8c5-4f39-d390-655e66ef5923"
   },
   "outputs": [
    {
     "data": {
      "text/html": [
       "<div>\n",
       "<style scoped>\n",
       "    .dataframe tbody tr th:only-of-type {\n",
       "        vertical-align: middle;\n",
       "    }\n",
       "\n",
       "    .dataframe tbody tr th {\n",
       "        vertical-align: top;\n",
       "    }\n",
       "\n",
       "    .dataframe thead th {\n",
       "        text-align: right;\n",
       "    }\n",
       "</style>\n",
       "<table border=\"1\" class=\"dataframe\">\n",
       "  <thead>\n",
       "    <tr style=\"text-align: right;\">\n",
       "      <th>probe</th>\n",
       "      <th>ACACA</th>\n",
       "      <th>ACVRL1</th>\n",
       "      <th>AKT1</th>\n",
       "      <th>AKT1S1</th>\n",
       "      <th>ANXA1</th>\n",
       "      <th>AR</th>\n",
       "      <th>ARAF</th>\n",
       "      <th>ASNS</th>\n",
       "      <th>ATM</th>\n",
       "      <th>BAD</th>\n",
       "      <th>BAK1</th>\n",
       "      <th>BAP1</th>\n",
       "      <th>BAX</th>\n",
       "      <th>BCL2</th>\n",
       "      <th>BCL2L1</th>\n",
       "      <th>BCL2L11</th>\n",
       "      <th>BECN1</th>\n",
       "      <th>BID</th>\n",
       "      <th>BRAF</th>\n",
       "      <th>BRCA2</th>\n",
       "      <th>CASP7</th>\n",
       "      <th>CAV1</th>\n",
       "      <th>CCNB1</th>\n",
       "      <th>CCND1</th>\n",
       "      <th>CCNE1</th>\n",
       "      <th>CCNE2</th>\n",
       "      <th>CDH1</th>\n",
       "      <th>CDH2</th>\n",
       "      <th>CDH3</th>\n",
       "      <th>CDKN1A</th>\n",
       "      <th>CDKN1B</th>\n",
       "      <th>CHEK1</th>\n",
       "      <th>CHEK2</th>\n",
       "      <th>CLDN7</th>\n",
       "      <th>COL6A1</th>\n",
       "      <th>CTNNB1</th>\n",
       "      <th>DIRAS3</th>\n",
       "      <th>DVL3</th>\n",
       "      <th>EEF2</th>\n",
       "      <th>EEF2K</th>\n",
       "      <th>...</th>\n",
       "      <th>PTEN</th>\n",
       "      <th>PXN</th>\n",
       "      <th>RAB25</th>\n",
       "      <th>RAD50</th>\n",
       "      <th>RAD51</th>\n",
       "      <th>RAF1</th>\n",
       "      <th>RB1</th>\n",
       "      <th>RBM15</th>\n",
       "      <th>RPS6</th>\n",
       "      <th>RPS6KA1</th>\n",
       "      <th>RPS6KB1</th>\n",
       "      <th>SERPINE1</th>\n",
       "      <th>SFRS1</th>\n",
       "      <th>SHC1</th>\n",
       "      <th>SMAD1</th>\n",
       "      <th>SMAD3</th>\n",
       "      <th>SMAD4</th>\n",
       "      <th>SQSTM1</th>\n",
       "      <th>SRC</th>\n",
       "      <th>STAT3</th>\n",
       "      <th>STAT5A</th>\n",
       "      <th>STK11</th>\n",
       "      <th>STMN1</th>\n",
       "      <th>SYK</th>\n",
       "      <th>TGM2</th>\n",
       "      <th>TP53</th>\n",
       "      <th>TP53BP1</th>\n",
       "      <th>TSC1</th>\n",
       "      <th>TSC2</th>\n",
       "      <th>TUBA1B</th>\n",
       "      <th>VHL</th>\n",
       "      <th>WWTR1</th>\n",
       "      <th>XBP1</th>\n",
       "      <th>XRCC1</th>\n",
       "      <th>XRCC5</th>\n",
       "      <th>YAP1</th>\n",
       "      <th>YBX1</th>\n",
       "      <th>YWHAB</th>\n",
       "      <th>YWHAE</th>\n",
       "      <th>YWHAZ</th>\n",
       "    </tr>\n",
       "  </thead>\n",
       "  <tbody>\n",
       "    <tr>\n",
       "      <th>subject1</th>\n",
       "      <td>-0.202976</td>\n",
       "      <td>3.824083</td>\n",
       "      <td>1.941961</td>\n",
       "      <td>1.892566</td>\n",
       "      <td>-0.944976</td>\n",
       "      <td>4.025588</td>\n",
       "      <td>1.931352</td>\n",
       "      <td>1.818177</td>\n",
       "      <td>1.356862</td>\n",
       "      <td>3.545808</td>\n",
       "      <td>2.993446</td>\n",
       "      <td>1.850183</td>\n",
       "      <td>2.738257</td>\n",
       "      <td>1.612507</td>\n",
       "      <td>1.024410</td>\n",
       "      <td>1.133878</td>\n",
       "      <td>1.894619</td>\n",
       "      <td>1.367329</td>\n",
       "      <td>3.980014</td>\n",
       "      <td>1.124177</td>\n",
       "      <td>0.830144</td>\n",
       "      <td>0.942295</td>\n",
       "      <td>-0.879421</td>\n",
       "      <td>0.896102</td>\n",
       "      <td>4.182551</td>\n",
       "      <td>3.252804</td>\n",
       "      <td>4.288507</td>\n",
       "      <td>3.237370</td>\n",
       "      <td>4.743553</td>\n",
       "      <td>0.991820</td>\n",
       "      <td>0.736323</td>\n",
       "      <td>2.931491</td>\n",
       "      <td>3.411393</td>\n",
       "      <td>4.336482</td>\n",
       "      <td>-0.172762</td>\n",
       "      <td>1.042420</td>\n",
       "      <td>2.658989</td>\n",
       "      <td>1.215174</td>\n",
       "      <td>-1.560762</td>\n",
       "      <td>-0.214732</td>\n",
       "      <td>...</td>\n",
       "      <td>2.952053</td>\n",
       "      <td>-0.479884</td>\n",
       "      <td>0.654347</td>\n",
       "      <td>2.184739</td>\n",
       "      <td>-0.169622</td>\n",
       "      <td>-0.002187</td>\n",
       "      <td>1.213495</td>\n",
       "      <td>-0.071032</td>\n",
       "      <td>1.255225</td>\n",
       "      <td>-1.002202</td>\n",
       "      <td>0.787247</td>\n",
       "      <td>0.216932</td>\n",
       "      <td>2.593745</td>\n",
       "      <td>1.744951</td>\n",
       "      <td>4.468721</td>\n",
       "      <td>0.248531</td>\n",
       "      <td>1.854355</td>\n",
       "      <td>1.758628</td>\n",
       "      <td>1.338441</td>\n",
       "      <td>3.346318</td>\n",
       "      <td>2.094348</td>\n",
       "      <td>1.939623</td>\n",
       "      <td>3.185947</td>\n",
       "      <td>4.198166</td>\n",
       "      <td>1.846847</td>\n",
       "      <td>1.965210</td>\n",
       "      <td>0.439563</td>\n",
       "      <td>0.102336</td>\n",
       "      <td>0.543139</td>\n",
       "      <td>-0.329378</td>\n",
       "      <td>3.032120</td>\n",
       "      <td>1.746216</td>\n",
       "      <td>1.928091</td>\n",
       "      <td>3.003348</td>\n",
       "      <td>0.259629</td>\n",
       "      <td>4.406141</td>\n",
       "      <td>0.252923</td>\n",
       "      <td>0.094568</td>\n",
       "      <td>3.759704</td>\n",
       "      <td>1.590642</td>\n",
       "    </tr>\n",
       "    <tr>\n",
       "      <th>subject2</th>\n",
       "      <td>1.641256</td>\n",
       "      <td>1.155427</td>\n",
       "      <td>-1.662717</td>\n",
       "      <td>1.251313</td>\n",
       "      <td>1.425577</td>\n",
       "      <td>2.736461</td>\n",
       "      <td>1.826906</td>\n",
       "      <td>0.249232</td>\n",
       "      <td>-0.035702</td>\n",
       "      <td>3.055626</td>\n",
       "      <td>0.842203</td>\n",
       "      <td>-1.196114</td>\n",
       "      <td>2.190861</td>\n",
       "      <td>1.188179</td>\n",
       "      <td>0.616593</td>\n",
       "      <td>0.765032</td>\n",
       "      <td>-0.171708</td>\n",
       "      <td>2.421508</td>\n",
       "      <td>4.145598</td>\n",
       "      <td>-0.360031</td>\n",
       "      <td>4.025167</td>\n",
       "      <td>-0.637182</td>\n",
       "      <td>0.470162</td>\n",
       "      <td>0.842170</td>\n",
       "      <td>3.178562</td>\n",
       "      <td>-0.194919</td>\n",
       "      <td>3.143534</td>\n",
       "      <td>2.237001</td>\n",
       "      <td>3.758940</td>\n",
       "      <td>0.687560</td>\n",
       "      <td>0.136228</td>\n",
       "      <td>0.464420</td>\n",
       "      <td>2.792323</td>\n",
       "      <td>2.918892</td>\n",
       "      <td>0.085349</td>\n",
       "      <td>3.727336</td>\n",
       "      <td>4.568028</td>\n",
       "      <td>4.265223</td>\n",
       "      <td>-1.242302</td>\n",
       "      <td>0.294680</td>\n",
       "      <td>...</td>\n",
       "      <td>0.451298</td>\n",
       "      <td>-0.123341</td>\n",
       "      <td>0.969371</td>\n",
       "      <td>-0.671016</td>\n",
       "      <td>-1.271249</td>\n",
       "      <td>2.477107</td>\n",
       "      <td>1.897999</td>\n",
       "      <td>2.229601</td>\n",
       "      <td>0.778705</td>\n",
       "      <td>-0.511495</td>\n",
       "      <td>0.178932</td>\n",
       "      <td>-2.142783</td>\n",
       "      <td>-0.832622</td>\n",
       "      <td>-0.322831</td>\n",
       "      <td>1.455057</td>\n",
       "      <td>-0.855356</td>\n",
       "      <td>2.738722</td>\n",
       "      <td>2.421207</td>\n",
       "      <td>2.528709</td>\n",
       "      <td>3.280261</td>\n",
       "      <td>-0.712507</td>\n",
       "      <td>1.854717</td>\n",
       "      <td>1.788465</td>\n",
       "      <td>5.335390</td>\n",
       "      <td>-0.120486</td>\n",
       "      <td>2.478598</td>\n",
       "      <td>3.020251</td>\n",
       "      <td>-0.875561</td>\n",
       "      <td>0.097303</td>\n",
       "      <td>-0.674101</td>\n",
       "      <td>3.372553</td>\n",
       "      <td>0.535820</td>\n",
       "      <td>2.643599</td>\n",
       "      <td>0.180999</td>\n",
       "      <td>0.459260</td>\n",
       "      <td>4.320906</td>\n",
       "      <td>0.636707</td>\n",
       "      <td>0.007298</td>\n",
       "      <td>3.181769</td>\n",
       "      <td>0.285204</td>\n",
       "    </tr>\n",
       "    <tr>\n",
       "      <th>subject3</th>\n",
       "      <td>-1.012489</td>\n",
       "      <td>3.843859</td>\n",
       "      <td>1.022982</td>\n",
       "      <td>1.451110</td>\n",
       "      <td>3.376559</td>\n",
       "      <td>4.987415</td>\n",
       "      <td>-1.509674</td>\n",
       "      <td>0.841377</td>\n",
       "      <td>2.316144</td>\n",
       "      <td>3.376270</td>\n",
       "      <td>2.705328</td>\n",
       "      <td>1.061179</td>\n",
       "      <td>-0.743559</td>\n",
       "      <td>5.496075</td>\n",
       "      <td>2.654845</td>\n",
       "      <td>1.694023</td>\n",
       "      <td>-0.063691</td>\n",
       "      <td>1.833665</td>\n",
       "      <td>3.701334</td>\n",
       "      <td>2.352961</td>\n",
       "      <td>1.412985</td>\n",
       "      <td>-1.053752</td>\n",
       "      <td>1.439258</td>\n",
       "      <td>1.576354</td>\n",
       "      <td>3.090763</td>\n",
       "      <td>-1.188771</td>\n",
       "      <td>5.868547</td>\n",
       "      <td>1.455604</td>\n",
       "      <td>3.189403</td>\n",
       "      <td>2.115154</td>\n",
       "      <td>4.051566</td>\n",
       "      <td>-1.460585</td>\n",
       "      <td>2.402294</td>\n",
       "      <td>2.659873</td>\n",
       "      <td>1.355472</td>\n",
       "      <td>4.439125</td>\n",
       "      <td>4.910748</td>\n",
       "      <td>3.215977</td>\n",
       "      <td>1.416086</td>\n",
       "      <td>3.331378</td>\n",
       "      <td>...</td>\n",
       "      <td>3.956887</td>\n",
       "      <td>-0.164761</td>\n",
       "      <td>0.197531</td>\n",
       "      <td>3.145125</td>\n",
       "      <td>1.725533</td>\n",
       "      <td>2.974045</td>\n",
       "      <td>1.780950</td>\n",
       "      <td>1.579057</td>\n",
       "      <td>1.393796</td>\n",
       "      <td>2.360494</td>\n",
       "      <td>-1.275129</td>\n",
       "      <td>1.257240</td>\n",
       "      <td>-0.255249</td>\n",
       "      <td>1.686507</td>\n",
       "      <td>1.129267</td>\n",
       "      <td>-0.762574</td>\n",
       "      <td>4.164212</td>\n",
       "      <td>3.773788</td>\n",
       "      <td>-0.309753</td>\n",
       "      <td>3.649911</td>\n",
       "      <td>2.296399</td>\n",
       "      <td>2.131777</td>\n",
       "      <td>2.046682</td>\n",
       "      <td>5.164825</td>\n",
       "      <td>0.809981</td>\n",
       "      <td>-1.246060</td>\n",
       "      <td>2.094257</td>\n",
       "      <td>-0.296498</td>\n",
       "      <td>0.133941</td>\n",
       "      <td>1.880346</td>\n",
       "      <td>2.401812</td>\n",
       "      <td>0.742165</td>\n",
       "      <td>1.831689</td>\n",
       "      <td>0.151429</td>\n",
       "      <td>2.988180</td>\n",
       "      <td>1.109919</td>\n",
       "      <td>-1.163853</td>\n",
       "      <td>0.578840</td>\n",
       "      <td>2.033397</td>\n",
       "      <td>2.720514</td>\n",
       "    </tr>\n",
       "    <tr>\n",
       "      <th>subject4</th>\n",
       "      <td>2.368667</td>\n",
       "      <td>1.589550</td>\n",
       "      <td>-1.561386</td>\n",
       "      <td>1.541984</td>\n",
       "      <td>2.325147</td>\n",
       "      <td>2.519527</td>\n",
       "      <td>1.534221</td>\n",
       "      <td>1.344263</td>\n",
       "      <td>-1.710746</td>\n",
       "      <td>3.076983</td>\n",
       "      <td>1.324401</td>\n",
       "      <td>-1.664112</td>\n",
       "      <td>2.820801</td>\n",
       "      <td>3.790010</td>\n",
       "      <td>1.066259</td>\n",
       "      <td>0.232580</td>\n",
       "      <td>-0.135074</td>\n",
       "      <td>2.577970</td>\n",
       "      <td>3.732496</td>\n",
       "      <td>0.268579</td>\n",
       "      <td>3.304332</td>\n",
       "      <td>0.715474</td>\n",
       "      <td>1.609099</td>\n",
       "      <td>1.137539</td>\n",
       "      <td>3.385303</td>\n",
       "      <td>0.965255</td>\n",
       "      <td>3.269998</td>\n",
       "      <td>-0.956341</td>\n",
       "      <td>5.157696</td>\n",
       "      <td>3.536281</td>\n",
       "      <td>0.301627</td>\n",
       "      <td>1.186099</td>\n",
       "      <td>2.342919</td>\n",
       "      <td>2.860937</td>\n",
       "      <td>1.244460</td>\n",
       "      <td>2.823257</td>\n",
       "      <td>5.197140</td>\n",
       "      <td>2.621826</td>\n",
       "      <td>-1.983947</td>\n",
       "      <td>-0.065952</td>\n",
       "      <td>...</td>\n",
       "      <td>1.491611</td>\n",
       "      <td>-0.238383</td>\n",
       "      <td>4.032395</td>\n",
       "      <td>-0.407355</td>\n",
       "      <td>-1.380884</td>\n",
       "      <td>3.193258</td>\n",
       "      <td>1.009249</td>\n",
       "      <td>1.745447</td>\n",
       "      <td>0.952362</td>\n",
       "      <td>0.028222</td>\n",
       "      <td>1.355767</td>\n",
       "      <td>-1.148589</td>\n",
       "      <td>-0.392060</td>\n",
       "      <td>-0.413171</td>\n",
       "      <td>2.124812</td>\n",
       "      <td>-0.038943</td>\n",
       "      <td>1.642974</td>\n",
       "      <td>2.068791</td>\n",
       "      <td>3.270798</td>\n",
       "      <td>2.980493</td>\n",
       "      <td>-0.681469</td>\n",
       "      <td>2.331594</td>\n",
       "      <td>2.604402</td>\n",
       "      <td>5.829168</td>\n",
       "      <td>0.252591</td>\n",
       "      <td>1.062846</td>\n",
       "      <td>3.200149</td>\n",
       "      <td>-0.662072</td>\n",
       "      <td>0.696254</td>\n",
       "      <td>-0.149613</td>\n",
       "      <td>2.824883</td>\n",
       "      <td>0.548850</td>\n",
       "      <td>0.837038</td>\n",
       "      <td>1.390423</td>\n",
       "      <td>0.218031</td>\n",
       "      <td>3.000870</td>\n",
       "      <td>-1.214967</td>\n",
       "      <td>-0.553528</td>\n",
       "      <td>3.221076</td>\n",
       "      <td>0.295506</td>\n",
       "    </tr>\n",
       "    <tr>\n",
       "      <th>subject5</th>\n",
       "      <td>1.499256</td>\n",
       "      <td>1.387675</td>\n",
       "      <td>-0.407935</td>\n",
       "      <td>1.838693</td>\n",
       "      <td>0.169267</td>\n",
       "      <td>2.822129</td>\n",
       "      <td>2.233880</td>\n",
       "      <td>1.341976</td>\n",
       "      <td>-0.274837</td>\n",
       "      <td>2.737312</td>\n",
       "      <td>1.684850</td>\n",
       "      <td>-0.452958</td>\n",
       "      <td>2.324203</td>\n",
       "      <td>1.111010</td>\n",
       "      <td>0.991468</td>\n",
       "      <td>0.599265</td>\n",
       "      <td>-0.601411</td>\n",
       "      <td>3.229009</td>\n",
       "      <td>3.834429</td>\n",
       "      <td>-1.013886</td>\n",
       "      <td>3.351466</td>\n",
       "      <td>-0.686813</td>\n",
       "      <td>1.103573</td>\n",
       "      <td>1.078431</td>\n",
       "      <td>1.322370</td>\n",
       "      <td>2.065173</td>\n",
       "      <td>3.518887</td>\n",
       "      <td>2.929057</td>\n",
       "      <td>4.680377</td>\n",
       "      <td>0.454712</td>\n",
       "      <td>0.048949</td>\n",
       "      <td>2.750354</td>\n",
       "      <td>3.134901</td>\n",
       "      <td>2.872708</td>\n",
       "      <td>-1.005160</td>\n",
       "      <td>2.969760</td>\n",
       "      <td>1.419982</td>\n",
       "      <td>3.614087</td>\n",
       "      <td>-0.754464</td>\n",
       "      <td>0.296020</td>\n",
       "      <td>...</td>\n",
       "      <td>0.628002</td>\n",
       "      <td>-0.401949</td>\n",
       "      <td>-0.152019</td>\n",
       "      <td>0.357040</td>\n",
       "      <td>-0.387627</td>\n",
       "      <td>2.018984</td>\n",
       "      <td>0.936235</td>\n",
       "      <td>2.534884</td>\n",
       "      <td>1.559044</td>\n",
       "      <td>-0.619607</td>\n",
       "      <td>1.623437</td>\n",
       "      <td>-0.764262</td>\n",
       "      <td>-0.459446</td>\n",
       "      <td>-1.226866</td>\n",
       "      <td>1.061712</td>\n",
       "      <td>-0.400974</td>\n",
       "      <td>3.528266</td>\n",
       "      <td>1.314991</td>\n",
       "      <td>3.419113</td>\n",
       "      <td>2.645774</td>\n",
       "      <td>-0.857871</td>\n",
       "      <td>1.807724</td>\n",
       "      <td>2.561999</td>\n",
       "      <td>6.441619</td>\n",
       "      <td>0.629370</td>\n",
       "      <td>3.129299</td>\n",
       "      <td>2.793223</td>\n",
       "      <td>0.129381</td>\n",
       "      <td>0.210723</td>\n",
       "      <td>0.209496</td>\n",
       "      <td>2.926571</td>\n",
       "      <td>1.101749</td>\n",
       "      <td>2.407304</td>\n",
       "      <td>-0.248939</td>\n",
       "      <td>0.591595</td>\n",
       "      <td>4.616699</td>\n",
       "      <td>1.357371</td>\n",
       "      <td>-0.149347</td>\n",
       "      <td>3.553320</td>\n",
       "      <td>0.557521</td>\n",
       "    </tr>\n",
       "  </tbody>\n",
       "</table>\n",
       "<p>5 rows × 131 columns</p>\n",
       "</div>"
      ],
      "text/plain": [
       "probe        ACACA    ACVRL1      AKT1  ...     YWHAB     YWHAE     YWHAZ\n",
       "subject1 -0.202976  3.824083  1.941961  ...  0.094568  3.759704  1.590642\n",
       "subject2  1.641256  1.155427 -1.662717  ...  0.007298  3.181769  0.285204\n",
       "subject3 -1.012489  3.843859  1.022982  ...  0.578840  2.033397  2.720514\n",
       "subject4  2.368667  1.589550 -1.561386  ... -0.553528  3.221076  0.295506\n",
       "subject5  1.499256  1.387675 -0.407935  ... -0.149347  3.553320  0.557521\n",
       "\n",
       "[5 rows x 131 columns]"
      ]
     },
     "execution_count": 64,
     "metadata": {
      "tags": []
     },
     "output_type": "execute_result"
    }
   ],
   "source": [
    "mrna_df = pd.read_csv('./dataset_5000samples/mRNA.txt', sep='\\t')\n",
    "meth_df = pd.read_csv('./dataset_5000samples/meth.txt', sep='\\t')\n",
    "prot_df = pd.read_csv('./dataset_5000samples/prot.txt', sep='\\t')\n",
    "\n",
    "mrna_df = mrna_df.set_index('probe').T\n",
    "meth_df = meth_df.set_index('probe').T\n",
    "prot_df = prot_df.set_index('probe').T\n",
    "\n",
    "labels = pd.read_csv('./dataset_5000samples/clusters.txt', sep='\\t')\n",
    "labels = labels.set_index('subjects')\n",
    "mrna_df.head()"
   ]
  },
  {
   "cell_type": "code",
   "execution_count": null,
   "metadata": {
    "colab": {
     "base_uri": "https://localhost:8080/",
     "height": 357
    },
    "id": "HaBrc8HhN3K-",
    "outputId": "3e635e25-2390-46e6-de06-3d28e0185a32"
   },
   "outputs": [
    {
     "data": {
      "image/png": "[encoded data removed]",
      "text/plain": [
       "<Figure size 720x360 with 1 Axes>"
      ]
     },
     "metadata": {
      "needs_background": "light",
      "tags": []
     },
     "output_type": "display_data"
    }
   ],
   "source": [
    "plt.figure(figsize=(10, 5))\n",
    "plt.title('Class distribution')\n",
    "labels.value_counts().plot.bar('count')\n",
    "plt.grid()\n",
    "plt.show()\n",
    "\n",
    "# number of synthetic examples  to generate for each class\n",
    "n_synthetic_samples = np.max(labels.value_counts().values) - labels.value_counts().values "
   ]
  },
  {
   "cell_type": "code",
   "execution_count": null,
   "metadata": {
    "colab": {
     "base_uri": "https://localhost:8080/"
    },
    "id": "j-7GmVLWLs6E",
    "outputId": "f7339dba-c5bc-462a-e938-59f645696f3f"
   },
   "outputs": [
    {
     "name": "stderr",
     "output_type": "stream",
     "text": [
      " 19%|█▉        | 3/16 [00:00<00:00, 27.00it/s]"
     ]
    },
    {
     "name": "stdout",
     "output_type": "stream",
     "text": [
      "Required 0 samples for class 1\n",
      "Required 250 samples for class 2\n",
      "Training set: [1, 131]\n",
      "Epoch 1/20\n"
     ]
    },
    {
     "name": "stderr",
     "output_type": "stream",
     "text": [
      "100%|██████████| 16/16 [00:00<00:00, 36.66it/s]\n",
      " 25%|██▌       | 4/16 [00:00<00:00, 36.98it/s]"
     ]
    },
    {
     "name": "stdout",
     "output_type": "stream",
     "text": [
      "Discriminator loss: 12.066006660461426\n",
      "Generator loss: 10.3692626953125\n",
      "Epoch 2/20\n"
     ]
    },
    {
     "name": "stderr",
     "output_type": "stream",
     "text": [
      "100%|██████████| 16/16 [00:00<00:00, 39.94it/s]\n",
      " 25%|██▌       | 4/16 [00:00<00:00, 35.94it/s]"
     ]
    },
    {
     "name": "stdout",
     "output_type": "stream",
     "text": [
      "Discriminator loss: 9.29465103149414\n",
      "Generator loss: 9.263029098510742\n",
      "Epoch 3/20\n"
     ]
    },
    {
     "name": "stderr",
     "output_type": "stream",
     "text": [
      "100%|██████████| 16/16 [00:00<00:00, 33.20it/s]\n",
      " 19%|█▉        | 3/16 [00:00<00:00, 27.93it/s]"
     ]
    },
    {
     "name": "stdout",
     "output_type": "stream",
     "text": [
      "Discriminator loss: 8.401301383972168\n",
      "Generator loss: 9.1045503616333\n",
      "Epoch 4/20\n"
     ]
    },
    {
     "name": "stderr",
     "output_type": "stream",
     "text": [
      "100%|██████████| 16/16 [00:00<00:00, 32.17it/s]\n",
      " 25%|██▌       | 4/16 [00:00<00:00, 34.13it/s]"
     ]
    },
    {
     "name": "stdout",
     "output_type": "stream",
     "text": [
      "Discriminator loss: 7.679079055786133\n",
      "Generator loss: 10.152334213256836\n",
      "Epoch 5/20\n"
     ]
    },
    {
     "name": "stderr",
     "output_type": "stream",
     "text": [
      "100%|██████████| 16/16 [00:00<00:00, 36.50it/s]\n",
      " 19%|█▉        | 3/16 [00:00<00:00, 29.45it/s]"
     ]
    },
    {
     "name": "stdout",
     "output_type": "stream",
     "text": [
      "Discriminator loss: 6.8282670974731445\n",
      "Generator loss: 12.063704490661621\n",
      "Epoch 6/20\n"
     ]
    },
    {
     "name": "stderr",
     "output_type": "stream",
     "text": [
      "100%|██████████| 16/16 [00:00<00:00, 32.23it/s]\n",
      " 19%|█▉        | 3/16 [00:00<00:00, 29.61it/s]"
     ]
    },
    {
     "name": "stdout",
     "output_type": "stream",
     "text": [
      "Discriminator loss: 5.9135966300964355\n",
      "Generator loss: 14.050636291503906\n",
      "Epoch 7/20\n"
     ]
    },
    {
     "name": "stderr",
     "output_type": "stream",
     "text": [
      "100%|██████████| 16/16 [00:00<00:00, 36.49it/s]\n",
      " 25%|██▌       | 4/16 [00:00<00:00, 35.11it/s]"
     ]
    },
    {
     "name": "stdout",
     "output_type": "stream",
     "text": [
      "Discriminator loss: 5.839156150817871\n",
      "Generator loss: 14.172439575195312\n",
      "Epoch 8/20\n"
     ]
    },
    {
     "name": "stderr",
     "output_type": "stream",
     "text": [
      "100%|██████████| 16/16 [00:00<00:00, 37.63it/s]\n",
      " 25%|██▌       | 4/16 [00:00<00:00, 36.58it/s]"
     ]
    },
    {
     "name": "stdout",
     "output_type": "stream",
     "text": [
      "Discriminator loss: 6.142003536224365\n",
      "Generator loss: 13.143924713134766\n",
      "Epoch 9/20\n"
     ]
    },
    {
     "name": "stderr",
     "output_type": "stream",
     "text": [
      "100%|██████████| 16/16 [00:00<00:00, 37.55it/s]\n",
      " 25%|██▌       | 4/16 [00:00<00:00, 32.37it/s]"
     ]
    },
    {
     "name": "stdout",
     "output_type": "stream",
     "text": [
      "Discriminator loss: 6.315598487854004\n",
      "Generator loss: 12.94009017944336\n",
      "Epoch 10/20\n"
     ]
    },
    {
     "name": "stderr",
     "output_type": "stream",
     "text": [
      "100%|██████████| 16/16 [00:00<00:00, 34.45it/s]\n",
      " 25%|██▌       | 4/16 [00:00<00:00, 32.38it/s]"
     ]
    },
    {
     "name": "stdout",
     "output_type": "stream",
     "text": [
      "Discriminator loss: 5.357290267944336\n",
      "Generator loss: 15.560826301574707\n",
      "Epoch 11/20\n"
     ]
    },
    {
     "name": "stderr",
     "output_type": "stream",
     "text": [
      "100%|██████████| 16/16 [00:00<00:00, 33.73it/s]\n",
      " 25%|██▌       | 4/16 [00:00<00:00, 33.20it/s]"
     ]
    },
    {
     "name": "stdout",
     "output_type": "stream",
     "text": [
      "Discriminator loss: 4.561539649963379\n",
      "Generator loss: 18.135610580444336\n",
      "Epoch 12/20\n"
     ]
    },
    {
     "name": "stderr",
     "output_type": "stream",
     "text": [
      "100%|██████████| 16/16 [00:00<00:00, 35.48it/s]\n",
      " 25%|██▌       | 4/16 [00:00<00:00, 31.45it/s]"
     ]
    },
    {
     "name": "stdout",
     "output_type": "stream",
     "text": [
      "Discriminator loss: 5.632777214050293\n",
      "Generator loss: 15.302475929260254\n",
      "Epoch 13/20\n"
     ]
    },
    {
     "name": "stderr",
     "output_type": "stream",
     "text": [
      "100%|██████████| 16/16 [00:00<00:00, 32.90it/s]\n",
      " 25%|██▌       | 4/16 [00:00<00:00, 33.48it/s]"
     ]
    },
    {
     "name": "stdout",
     "output_type": "stream",
     "text": [
      "Discriminator loss: 6.698855400085449\n",
      "Generator loss: 13.109339714050293\n",
      "Epoch 14/20\n"
     ]
    },
    {
     "name": "stderr",
     "output_type": "stream",
     "text": [
      "100%|██████████| 16/16 [00:00<00:00, 35.77it/s]\n",
      " 25%|██▌       | 4/16 [00:00<00:00, 37.82it/s]"
     ]
    },
    {
     "name": "stdout",
     "output_type": "stream",
     "text": [
      "Discriminator loss: 4.677929401397705\n",
      "Generator loss: 20.02478790283203\n",
      "Epoch 15/20\n"
     ]
    },
    {
     "name": "stderr",
     "output_type": "stream",
     "text": [
      "100%|██████████| 16/16 [00:00<00:00, 40.08it/s]\n",
      " 25%|██▌       | 4/16 [00:00<00:00, 33.10it/s]"
     ]
    },
    {
     "name": "stdout",
     "output_type": "stream",
     "text": [
      "Discriminator loss: 2.667933702468872\n",
      "Generator loss: 28.071765899658203\n",
      "Epoch 16/20\n"
     ]
    },
    {
     "name": "stderr",
     "output_type": "stream",
     "text": [
      "100%|██████████| 16/16 [00:00<00:00, 36.05it/s]\n",
      " 25%|██▌       | 4/16 [00:00<00:00, 37.15it/s]"
     ]
    },
    {
     "name": "stdout",
     "output_type": "stream",
     "text": [
      "Discriminator loss: 4.059504985809326\n",
      "Generator loss: 20.774263381958008\n",
      "Epoch 17/20\n"
     ]
    },
    {
     "name": "stderr",
     "output_type": "stream",
     "text": [
      "100%|██████████| 16/16 [00:00<00:00, 39.89it/s]\n",
      " 25%|██▌       | 4/16 [00:00<00:00, 36.77it/s]"
     ]
    },
    {
     "name": "stdout",
     "output_type": "stream",
     "text": [
      "Discriminator loss: 6.629969120025635\n",
      "Generator loss: 13.937650680541992\n",
      "Epoch 18/20\n"
     ]
    },
    {
     "name": "stderr",
     "output_type": "stream",
     "text": [
      "100%|██████████| 16/16 [00:00<00:00, 37.53it/s]\n",
      " 25%|██▌       | 4/16 [00:00<00:00, 35.45it/s]"
     ]
    },
    {
     "name": "stdout",
     "output_type": "stream",
     "text": [
      "Discriminator loss: 6.877416610717773\n",
      "Generator loss: 13.979177474975586\n",
      "Epoch 19/20\n"
     ]
    },
    {
     "name": "stderr",
     "output_type": "stream",
     "text": [
      "100%|██████████| 16/16 [00:00<00:00, 39.12it/s]\n",
      " 25%|██▌       | 4/16 [00:00<00:00, 32.44it/s]"
     ]
    },
    {
     "name": "stdout",
     "output_type": "stream",
     "text": [
      "Discriminator loss: 4.8924126625061035\n",
      "Generator loss: 19.82501792907715\n",
      "Epoch 20/20\n"
     ]
    },
    {
     "name": "stderr",
     "output_type": "stream",
     "text": [
      "100%|██████████| 16/16 [00:00<00:00, 33.72it/s]\n"
     ]
    },
    {
     "name": "stdout",
     "output_type": "stream",
     "text": [
      "Discriminator loss: 5.033368110656738\n",
      "Generator loss: 20.86590003967285\n"
     ]
    },
    {
     "name": "stderr",
     "output_type": "stream",
     "text": [
      " 19%|█▉        | 3/16 [00:00<00:00, 26.64it/s]"
     ]
    },
    {
     "name": "stdout",
     "output_type": "stream",
     "text": [
      "Required 250 samples for class 3\n",
      "Training set: [1, 131]\n",
      "Epoch 1/20\n"
     ]
    },
    {
     "name": "stderr",
     "output_type": "stream",
     "text": [
      "100%|██████████| 16/16 [00:00<00:00, 34.62it/s]\n",
      " 25%|██▌       | 4/16 [00:00<00:00, 36.47it/s]"
     ]
    },
    {
     "name": "stdout",
     "output_type": "stream",
     "text": [
      "Discriminator loss: 8.56279182434082\n",
      "Generator loss: 10.256575584411621\n",
      "Epoch 2/20\n"
     ]
    },
    {
     "name": "stderr",
     "output_type": "stream",
     "text": [
      "100%|██████████| 16/16 [00:00<00:00, 39.32it/s]\n",
      " 25%|██▌       | 4/16 [00:00<00:00, 36.19it/s]"
     ]
    },
    {
     "name": "stdout",
     "output_type": "stream",
     "text": [
      "Discriminator loss: 7.982053756713867\n",
      "Generator loss: 9.070911407470703\n",
      "Epoch 3/20\n"
     ]
    },
    {
     "name": "stderr",
     "output_type": "stream",
     "text": [
      "100%|██████████| 16/16 [00:00<00:00, 34.80it/s]\n",
      " 25%|██▌       | 4/16 [00:00<00:00, 32.03it/s]"
     ]
    },
    {
     "name": "stdout",
     "output_type": "stream",
     "text": [
      "Discriminator loss: 7.921103477478027\n",
      "Generator loss: 9.262899398803711\n",
      "Epoch 4/20\n"
     ]
    },
    {
     "name": "stderr",
     "output_type": "stream",
     "text": [
      "100%|██████████| 16/16 [00:00<00:00, 33.25it/s]\n",
      " 25%|██▌       | 4/16 [00:00<00:00, 32.89it/s]"
     ]
    },
    {
     "name": "stdout",
     "output_type": "stream",
     "text": [
      "Discriminator loss: 6.699291229248047\n",
      "Generator loss: 11.724336624145508\n",
      "Epoch 5/20\n"
     ]
    },
    {
     "name": "stderr",
     "output_type": "stream",
     "text": [
      "100%|██████████| 16/16 [00:00<00:00, 36.48it/s]\n",
      " 25%|██▌       | 4/16 [00:00<00:00, 36.66it/s]"
     ]
    },
    {
     "name": "stdout",
     "output_type": "stream",
     "text": [
      "Discriminator loss: 5.6729326248168945\n",
      "Generator loss: 14.43107795715332\n",
      "Epoch 6/20\n"
     ]
    },
    {
     "name": "stderr",
     "output_type": "stream",
     "text": [
      "100%|██████████| 16/16 [00:00<00:00, 40.20it/s]\n",
      " 25%|██▌       | 4/16 [00:00<00:00, 38.64it/s]"
     ]
    },
    {
     "name": "stdout",
     "output_type": "stream",
     "text": [
      "Discriminator loss: 7.467397212982178\n",
      "Generator loss: 11.439417839050293\n",
      "Epoch 7/20\n"
     ]
    },
    {
     "name": "stderr",
     "output_type": "stream",
     "text": [
      "100%|██████████| 16/16 [00:00<00:00, 39.37it/s]\n",
      " 19%|█▉        | 3/16 [00:00<00:00, 28.80it/s]"
     ]
    },
    {
     "name": "stdout",
     "output_type": "stream",
     "text": [
      "Discriminator loss: 8.726286888122559\n",
      "Generator loss: 9.708486557006836\n",
      "Epoch 8/20\n"
     ]
    },
    {
     "name": "stderr",
     "output_type": "stream",
     "text": [
      "100%|██████████| 16/16 [00:00<00:00, 37.16it/s]\n",
      " 25%|██▌       | 4/16 [00:00<00:00, 38.25it/s]"
     ]
    },
    {
     "name": "stdout",
     "output_type": "stream",
     "text": [
      "Discriminator loss: 8.06832218170166\n",
      "Generator loss: 10.830063819885254\n",
      "Epoch 9/20\n"
     ]
    },
    {
     "name": "stderr",
     "output_type": "stream",
     "text": [
      "100%|██████████| 16/16 [00:00<00:00, 37.81it/s]\n",
      " 25%|██▌       | 4/16 [00:00<00:00, 31.93it/s]"
     ]
    },
    {
     "name": "stdout",
     "output_type": "stream",
     "text": [
      "Discriminator loss: 6.396162986755371\n",
      "Generator loss: 13.720226287841797\n",
      "Epoch 10/20\n"
     ]
    },
    {
     "name": "stderr",
     "output_type": "stream",
     "text": [
      "100%|██████████| 16/16 [00:00<00:00, 34.38it/s]\n",
      " 25%|██▌       | 4/16 [00:00<00:00, 37.50it/s]"
     ]
    },
    {
     "name": "stdout",
     "output_type": "stream",
     "text": [
      "Discriminator loss: 4.862915515899658\n",
      "Generator loss: 17.640695571899414\n",
      "Epoch 11/20\n"
     ]
    },
    {
     "name": "stderr",
     "output_type": "stream",
     "text": [
      "100%|██████████| 16/16 [00:00<00:00, 40.20it/s]\n",
      " 25%|██▌       | 4/16 [00:00<00:00, 37.16it/s]"
     ]
    },
    {
     "name": "stdout",
     "output_type": "stream",
     "text": [
      "Discriminator loss: 5.427967548370361\n",
      "Generator loss: 16.855060577392578\n",
      "Epoch 12/20\n"
     ]
    },
    {
     "name": "stderr",
     "output_type": "stream",
     "text": [
      "100%|██████████| 16/16 [00:00<00:00, 34.08it/s]\n",
      " 25%|██▌       | 4/16 [00:00<00:00, 32.14it/s]"
     ]
    },
    {
     "name": "stdout",
     "output_type": "stream",
     "text": [
      "Discriminator loss: 7.159916400909424\n",
      "Generator loss: 13.63218879699707\n",
      "Epoch 13/20\n"
     ]
    },
    {
     "name": "stderr",
     "output_type": "stream",
     "text": [
      "100%|██████████| 16/16 [00:00<00:00, 34.37it/s]\n",
      " 25%|██▌       | 4/16 [00:00<00:00, 32.80it/s]"
     ]
    },
    {
     "name": "stdout",
     "output_type": "stream",
     "text": [
      "Discriminator loss: 6.456037521362305\n",
      "Generator loss: 15.431686401367188\n",
      "Epoch 14/20\n"
     ]
    },
    {
     "name": "stderr",
     "output_type": "stream",
     "text": [
      "100%|██████████| 16/16 [00:00<00:00, 34.96it/s]\n",
      " 25%|██▌       | 4/16 [00:00<00:00, 33.07it/s]"
     ]
    },
    {
     "name": "stdout",
     "output_type": "stream",
     "text": [
      "Discriminator loss: 3.607401132583618\n",
      "Generator loss: 24.665603637695312\n",
      "Epoch 15/20\n"
     ]
    },
    {
     "name": "stderr",
     "output_type": "stream",
     "text": [
      "100%|██████████| 16/16 [00:00<00:00, 33.56it/s]\n",
      " 25%|██▌       | 4/16 [00:00<00:00, 32.14it/s]"
     ]
    },
    {
     "name": "stdout",
     "output_type": "stream",
     "text": [
      "Discriminator loss: 2.8925371170043945\n",
      "Generator loss: 29.856082916259766\n",
      "Epoch 16/20\n"
     ]
    },
    {
     "name": "stderr",
     "output_type": "stream",
     "text": [
      "100%|██████████| 16/16 [00:00<00:00, 35.91it/s]\n",
      " 25%|██▌       | 4/16 [00:00<00:00, 37.10it/s]"
     ]
    },
    {
     "name": "stdout",
     "output_type": "stream",
     "text": [
      "Discriminator loss: 3.9077112674713135\n",
      "Generator loss: 26.579139709472656\n",
      "Epoch 17/20\n"
     ]
    },
    {
     "name": "stderr",
     "output_type": "stream",
     "text": [
      "100%|██████████| 16/16 [00:00<00:00, 38.74it/s]\n",
      " 25%|██▌       | 4/16 [00:00<00:00, 38.26it/s]"
     ]
    },
    {
     "name": "stdout",
     "output_type": "stream",
     "text": [
      "Discriminator loss: 6.1287055015563965\n",
      "Generator loss: 21.66294288635254\n",
      "Epoch 18/20\n"
     ]
    },
    {
     "name": "stderr",
     "output_type": "stream",
     "text": [
      "100%|██████████| 16/16 [00:00<00:00, 39.00it/s]\n",
      " 25%|██▌       | 4/16 [00:00<00:00, 36.11it/s]"
     ]
    },
    {
     "name": "stdout",
     "output_type": "stream",
     "text": [
      "Discriminator loss: 7.779845237731934\n",
      "Generator loss: 17.65700912475586\n",
      "Epoch 19/20\n"
     ]
    },
    {
     "name": "stderr",
     "output_type": "stream",
     "text": [
      "100%|██████████| 16/16 [00:00<00:00, 36.99it/s]\n",
      " 25%|██▌       | 4/16 [00:00<00:00, 32.54it/s]"
     ]
    },
    {
     "name": "stdout",
     "output_type": "stream",
     "text": [
      "Discriminator loss: 2.834826707839966\n",
      "Generator loss: 33.1792106628418\n",
      "Epoch 20/20\n"
     ]
    },
    {
     "name": "stderr",
     "output_type": "stream",
     "text": [
      "100%|██████████| 16/16 [00:00<00:00, 34.21it/s]\n"
     ]
    },
    {
     "name": "stdout",
     "output_type": "stream",
     "text": [
      "Discriminator loss: 3.072307586669922\n",
      "Generator loss: 31.409385681152344\n"
     ]
    },
    {
     "name": "stderr",
     "output_type": "stream",
     "text": [
      " 12%|█▎        | 2/16 [00:00<00:00, 19.94it/s]"
     ]
    },
    {
     "name": "stdout",
     "output_type": "stream",
     "text": [
      "Required 250 samples for class 4\n",
      "Training set: [1, 131]\n",
      "Epoch 1/20\n"
     ]
    },
    {
     "name": "stderr",
     "output_type": "stream",
     "text": [
      "100%|██████████| 16/16 [00:00<00:00, 32.64it/s]\n",
      " 25%|██▌       | 4/16 [00:00<00:00, 35.68it/s]"
     ]
    },
    {
     "name": "stdout",
     "output_type": "stream",
     "text": [
      "Discriminator loss: 8.171318054199219\n",
      "Generator loss: 10.508877754211426\n",
      "Epoch 2/20\n"
     ]
    },
    {
     "name": "stderr",
     "output_type": "stream",
     "text": [
      "100%|██████████| 16/16 [00:00<00:00, 39.16it/s]\n",
      " 25%|██▌       | 4/16 [00:00<00:00, 37.88it/s]"
     ]
    },
    {
     "name": "stdout",
     "output_type": "stream",
     "text": [
      "Discriminator loss: 8.13205337524414\n",
      "Generator loss: 8.842964172363281\n",
      "Epoch 3/20\n"
     ]
    },
    {
     "name": "stderr",
     "output_type": "stream",
     "text": [
      "100%|██████████| 16/16 [00:00<00:00, 38.93it/s]\n",
      " 25%|██▌       | 4/16 [00:00<00:00, 34.14it/s]"
     ]
    },
    {
     "name": "stdout",
     "output_type": "stream",
     "text": [
      "Discriminator loss: 8.952958106994629\n",
      "Generator loss: 7.94316291809082\n",
      "Epoch 4/20\n"
     ]
    },
    {
     "name": "stderr",
     "output_type": "stream",
     "text": [
      "100%|██████████| 16/16 [00:00<00:00, 37.48it/s]\n",
      " 25%|██▌       | 4/16 [00:00<00:00, 38.32it/s]"
     ]
    },
    {
     "name": "stdout",
     "output_type": "stream",
     "text": [
      "Discriminator loss: 8.292871475219727\n",
      "Generator loss: 9.321327209472656\n",
      "Epoch 5/20\n"
     ]
    },
    {
     "name": "stderr",
     "output_type": "stream",
     "text": [
      "100%|██████████| 16/16 [00:00<00:00, 40.34it/s]\n",
      " 25%|██▌       | 4/16 [00:00<00:00, 34.58it/s]"
     ]
    },
    {
     "name": "stdout",
     "output_type": "stream",
     "text": [
      "Discriminator loss: 6.209147930145264\n",
      "Generator loss: 13.330418586730957\n",
      "Epoch 6/20\n"
     ]
    },
    {
     "name": "stderr",
     "output_type": "stream",
     "text": [
      "100%|██████████| 16/16 [00:00<00:00, 36.63it/s]\n",
      " 25%|██▌       | 4/16 [00:00<00:00, 37.87it/s]"
     ]
    },
    {
     "name": "stdout",
     "output_type": "stream",
     "text": [
      "Discriminator loss: 5.382169723510742\n",
      "Generator loss: 15.367241859436035\n",
      "Epoch 7/20\n"
     ]
    },
    {
     "name": "stderr",
     "output_type": "stream",
     "text": [
      "100%|██████████| 16/16 [00:00<00:00, 40.04it/s]\n",
      " 25%|██▌       | 4/16 [00:00<00:00, 36.43it/s]"
     ]
    },
    {
     "name": "stdout",
     "output_type": "stream",
     "text": [
      "Discriminator loss: 5.480956077575684\n",
      "Generator loss: 14.785717010498047\n",
      "Epoch 8/20\n"
     ]
    },
    {
     "name": "stderr",
     "output_type": "stream",
     "text": [
      "100%|██████████| 16/16 [00:00<00:00, 36.14it/s]\n",
      " 25%|██▌       | 4/16 [00:00<00:00, 38.54it/s]"
     ]
    },
    {
     "name": "stdout",
     "output_type": "stream",
     "text": [
      "Discriminator loss: 5.024039268493652\n",
      "Generator loss: 15.595610618591309\n",
      "Epoch 9/20\n"
     ]
    },
    {
     "name": "stderr",
     "output_type": "stream",
     "text": [
      "100%|██████████| 16/16 [00:00<00:00, 40.78it/s]\n",
      " 25%|██▌       | 4/16 [00:00<00:00, 38.79it/s]"
     ]
    },
    {
     "name": "stdout",
     "output_type": "stream",
     "text": [
      "Discriminator loss: 4.558517932891846\n",
      "Generator loss: 16.70046615600586\n",
      "Epoch 10/20\n"
     ]
    },
    {
     "name": "stderr",
     "output_type": "stream",
     "text": [
      "100%|██████████| 16/16 [00:00<00:00, 41.45it/s]\n",
      " 25%|██▌       | 4/16 [00:00<00:00, 35.77it/s]"
     ]
    },
    {
     "name": "stdout",
     "output_type": "stream",
     "text": [
      "Discriminator loss: 4.826997756958008\n",
      "Generator loss: 16.320478439331055\n",
      "Epoch 11/20\n"
     ]
    },
    {
     "name": "stderr",
     "output_type": "stream",
     "text": [
      "100%|██████████| 16/16 [00:00<00:00, 38.41it/s]\n",
      " 25%|██▌       | 4/16 [00:00<00:00, 38.22it/s]"
     ]
    },
    {
     "name": "stdout",
     "output_type": "stream",
     "text": [
      "Discriminator loss: 5.692491054534912\n",
      "Generator loss: 14.185385704040527\n",
      "Epoch 12/20\n"
     ]
    },
    {
     "name": "stderr",
     "output_type": "stream",
     "text": [
      "100%|██████████| 16/16 [00:00<00:00, 41.20it/s]\n",
      " 25%|██▌       | 4/16 [00:00<00:00, 37.57it/s]"
     ]
    },
    {
     "name": "stdout",
     "output_type": "stream",
     "text": [
      "Discriminator loss: 5.3032755851745605\n",
      "Generator loss: 15.186118125915527\n",
      "Epoch 13/20\n"
     ]
    },
    {
     "name": "stderr",
     "output_type": "stream",
     "text": [
      "100%|██████████| 16/16 [00:00<00:00, 37.47it/s]\n",
      " 19%|█▉        | 3/16 [00:00<00:00, 28.81it/s]"
     ]
    },
    {
     "name": "stdout",
     "output_type": "stream",
     "text": [
      "Discriminator loss: 5.987177848815918\n",
      "Generator loss: 13.719955444335938\n",
      "Epoch 14/20\n"
     ]
    },
    {
     "name": "stderr",
     "output_type": "stream",
     "text": [
      "100%|██████████| 16/16 [00:00<00:00, 33.82it/s]\n",
      " 25%|██▌       | 4/16 [00:00<00:00, 32.17it/s]"
     ]
    },
    {
     "name": "stdout",
     "output_type": "stream",
     "text": [
      "Discriminator loss: 7.383150100708008\n",
      "Generator loss: 11.081442832946777\n",
      "Epoch 15/20\n"
     ]
    },
    {
     "name": "stderr",
     "output_type": "stream",
     "text": [
      "100%|██████████| 16/16 [00:00<00:00, 35.85it/s]\n",
      " 25%|██▌       | 4/16 [00:00<00:00, 32.38it/s]"
     ]
    },
    {
     "name": "stdout",
     "output_type": "stream",
     "text": [
      "Discriminator loss: 5.597472190856934\n",
      "Generator loss: 14.98188591003418\n",
      "Epoch 16/20\n"
     ]
    },
    {
     "name": "stderr",
     "output_type": "stream",
     "text": [
      "100%|██████████| 16/16 [00:00<00:00, 33.85it/s]\n",
      " 25%|██▌       | 4/16 [00:00<00:00, 32.62it/s]"
     ]
    },
    {
     "name": "stdout",
     "output_type": "stream",
     "text": [
      "Discriminator loss: 2.959669828414917\n",
      "Generator loss: 25.157936096191406\n",
      "Epoch 17/20\n"
     ]
    },
    {
     "name": "stderr",
     "output_type": "stream",
     "text": [
      "100%|██████████| 16/16 [00:00<00:00, 33.92it/s]\n",
      " 19%|█▉        | 3/16 [00:00<00:00, 29.96it/s]"
     ]
    },
    {
     "name": "stdout",
     "output_type": "stream",
     "text": [
      "Discriminator loss: 2.291417121887207\n",
      "Generator loss: 29.550098419189453\n",
      "Epoch 18/20\n"
     ]
    },
    {
     "name": "stderr",
     "output_type": "stream",
     "text": [
      "100%|██████████| 16/16 [00:00<00:00, 36.74it/s]\n",
      " 25%|██▌       | 4/16 [00:00<00:00, 38.73it/s]"
     ]
    },
    {
     "name": "stdout",
     "output_type": "stream",
     "text": [
      "Discriminator loss: 2.775219440460205\n",
      "Generator loss: 25.738147735595703\n",
      "Epoch 19/20\n"
     ]
    },
    {
     "name": "stderr",
     "output_type": "stream",
     "text": [
      "100%|██████████| 16/16 [00:00<00:00, 40.47it/s]\n",
      " 25%|██▌       | 4/16 [00:00<00:00, 36.80it/s]"
     ]
    },
    {
     "name": "stdout",
     "output_type": "stream",
     "text": [
      "Discriminator loss: 3.624959707260132\n",
      "Generator loss: 21.852378845214844\n",
      "Epoch 20/20\n"
     ]
    },
    {
     "name": "stderr",
     "output_type": "stream",
     "text": [
      "100%|██████████| 16/16 [00:00<00:00, 36.56it/s]\n"
     ]
    },
    {
     "name": "stdout",
     "output_type": "stream",
     "text": [
      "Discriminator loss: 4.5174055099487305\n",
      "Generator loss: 18.74945068359375\n"
     ]
    },
    {
     "name": "stderr",
     "output_type": "stream",
     "text": [
      " 25%|██▌       | 3/12 [00:00<00:00, 26.10it/s]"
     ]
    },
    {
     "name": "stdout",
     "output_type": "stream",
     "text": [
      "Required 500 samples for class 5\n",
      "Training set: [1, 131]\n",
      "Epoch 1/20\n"
     ]
    },
    {
     "name": "stderr",
     "output_type": "stream",
     "text": [
      "100%|██████████| 12/12 [00:00<00:00, 36.53it/s]\n",
      " 33%|███▎      | 4/12 [00:00<00:00, 39.30it/s]"
     ]
    },
    {
     "name": "stdout",
     "output_type": "stream",
     "text": [
      "Discriminator loss: 6.23289680480957\n",
      "Generator loss: 7.719093322753906\n",
      "Epoch 2/20\n"
     ]
    },
    {
     "name": "stderr",
     "output_type": "stream",
     "text": [
      "100%|██████████| 12/12 [00:00<00:00, 40.80it/s]\n",
      " 33%|███▎      | 4/12 [00:00<00:00, 39.61it/s]"
     ]
    },
    {
     "name": "stdout",
     "output_type": "stream",
     "text": [
      "Discriminator loss: 5.931333065032959\n",
      "Generator loss: 6.915455341339111\n",
      "Epoch 3/20\n"
     ]
    },
    {
     "name": "stderr",
     "output_type": "stream",
     "text": [
      "100%|██████████| 12/12 [00:00<00:00, 36.29it/s]\n",
      " 33%|███▎      | 4/12 [00:00<00:00, 33.08it/s]"
     ]
    },
    {
     "name": "stdout",
     "output_type": "stream",
     "text": [
      "Discriminator loss: 6.1475067138671875\n",
      "Generator loss: 6.55601692199707\n",
      "Epoch 4/20\n"
     ]
    },
    {
     "name": "stderr",
     "output_type": "stream",
     "text": [
      "100%|██████████| 12/12 [00:00<00:00, 37.40it/s]\n",
      " 33%|███▎      | 4/12 [00:00<00:00, 35.63it/s]"
     ]
    },
    {
     "name": "stdout",
     "output_type": "stream",
     "text": [
      "Discriminator loss: 6.017820358276367\n",
      "Generator loss: 6.815973281860352\n",
      "Epoch 5/20\n"
     ]
    },
    {
     "name": "stderr",
     "output_type": "stream",
     "text": [
      "100%|██████████| 12/12 [00:00<00:00, 38.55it/s]\n",
      " 33%|███▎      | 4/12 [00:00<00:00, 35.61it/s]"
     ]
    },
    {
     "name": "stdout",
     "output_type": "stream",
     "text": [
      "Discriminator loss: 5.487521171569824\n",
      "Generator loss: 7.654427528381348\n",
      "Epoch 6/20\n"
     ]
    },
    {
     "name": "stderr",
     "output_type": "stream",
     "text": [
      "100%|██████████| 12/12 [00:00<00:00, 34.46it/s]\n",
      " 33%|███▎      | 4/12 [00:00<00:00, 37.12it/s]"
     ]
    },
    {
     "name": "stdout",
     "output_type": "stream",
     "text": [
      "Discriminator loss: 4.985977649688721\n",
      "Generator loss: 8.763718605041504\n",
      "Epoch 7/20\n"
     ]
    },
    {
     "name": "stderr",
     "output_type": "stream",
     "text": [
      "100%|██████████| 12/12 [00:00<00:00, 36.82it/s]\n",
      " 33%|███▎      | 4/12 [00:00<00:00, 32.00it/s]"
     ]
    },
    {
     "name": "stdout",
     "output_type": "stream",
     "text": [
      "Discriminator loss: 4.758943557739258\n",
      "Generator loss: 9.521261215209961\n",
      "Epoch 8/20\n"
     ]
    },
    {
     "name": "stderr",
     "output_type": "stream",
     "text": [
      "100%|██████████| 12/12 [00:00<00:00, 34.20it/s]\n",
      " 33%|███▎      | 4/12 [00:00<00:00, 32.80it/s]"
     ]
    },
    {
     "name": "stdout",
     "output_type": "stream",
     "text": [
      "Discriminator loss: 5.129029750823975\n",
      "Generator loss: 9.021727561950684\n",
      "Epoch 9/20\n"
     ]
    },
    {
     "name": "stderr",
     "output_type": "stream",
     "text": [
      "100%|██████████| 12/12 [00:00<00:00, 33.64it/s]\n",
      " 33%|███▎      | 4/12 [00:00<00:00, 33.21it/s]"
     ]
    },
    {
     "name": "stdout",
     "output_type": "stream",
     "text": [
      "Discriminator loss: 5.321367263793945\n",
      "Generator loss: 8.663819313049316\n",
      "Epoch 10/20\n"
     ]
    },
    {
     "name": "stderr",
     "output_type": "stream",
     "text": [
      "100%|██████████| 12/12 [00:00<00:00, 33.82it/s]\n",
      " 33%|███▎      | 4/12 [00:00<00:00, 33.30it/s]"
     ]
    },
    {
     "name": "stdout",
     "output_type": "stream",
     "text": [
      "Discriminator loss: 4.825630187988281\n",
      "Generator loss: 9.613792419433594\n",
      "Epoch 11/20\n"
     ]
    },
    {
     "name": "stderr",
     "output_type": "stream",
     "text": [
      "100%|██████████| 12/12 [00:00<00:00, 34.23it/s]\n",
      " 33%|███▎      | 4/12 [00:00<00:00, 32.75it/s]"
     ]
    },
    {
     "name": "stdout",
     "output_type": "stream",
     "text": [
      "Discriminator loss: 4.4411163330078125\n",
      "Generator loss: 10.548213958740234\n",
      "Epoch 12/20\n"
     ]
    },
    {
     "name": "stderr",
     "output_type": "stream",
     "text": [
      "100%|██████████| 12/12 [00:00<00:00, 32.31it/s]\n",
      " 33%|███▎      | 4/12 [00:00<00:00, 32.63it/s]"
     ]
    },
    {
     "name": "stdout",
     "output_type": "stream",
     "text": [
      "Discriminator loss: 4.7336626052856445\n",
      "Generator loss: 9.975881576538086\n",
      "Epoch 13/20\n"
     ]
    },
    {
     "name": "stderr",
     "output_type": "stream",
     "text": [
      "100%|██████████| 12/12 [00:00<00:00, 34.38it/s]\n",
      " 33%|███▎      | 4/12 [00:00<00:00, 35.44it/s]"
     ]
    },
    {
     "name": "stdout",
     "output_type": "stream",
     "text": [
      "Discriminator loss: 4.927951812744141\n",
      "Generator loss: 9.727997779846191\n",
      "Epoch 14/20\n"
     ]
    },
    {
     "name": "stderr",
     "output_type": "stream",
     "text": [
      "100%|██████████| 12/12 [00:00<00:00, 37.44it/s]\n",
      " 33%|███▎      | 4/12 [00:00<00:00, 37.97it/s]"
     ]
    },
    {
     "name": "stdout",
     "output_type": "stream",
     "text": [
      "Discriminator loss: 4.926181793212891\n",
      "Generator loss: 9.982851028442383\n",
      "Epoch 15/20\n"
     ]
    },
    {
     "name": "stderr",
     "output_type": "stream",
     "text": [
      "100%|██████████| 12/12 [00:00<00:00, 39.20it/s]\n",
      " 33%|███▎      | 4/12 [00:00<00:00, 37.73it/s]"
     ]
    },
    {
     "name": "stdout",
     "output_type": "stream",
     "text": [
      "Discriminator loss: 5.111299991607666\n",
      "Generator loss: 9.560700416564941\n",
      "Epoch 16/20\n"
     ]
    },
    {
     "name": "stderr",
     "output_type": "stream",
     "text": [
      "100%|██████████| 12/12 [00:00<00:00, 40.23it/s]\n",
      " 33%|███▎      | 4/12 [00:00<00:00, 39.17it/s]"
     ]
    },
    {
     "name": "stdout",
     "output_type": "stream",
     "text": [
      "Discriminator loss: 4.786114692687988\n",
      "Generator loss: 10.46245288848877\n",
      "Epoch 17/20\n"
     ]
    },
    {
     "name": "stderr",
     "output_type": "stream",
     "text": [
      "100%|██████████| 12/12 [00:00<00:00, 40.95it/s]\n",
      " 33%|███▎      | 4/12 [00:00<00:00, 38.45it/s]"
     ]
    },
    {
     "name": "stdout",
     "output_type": "stream",
     "text": [
      "Discriminator loss: 3.680418014526367\n",
      "Generator loss: 13.49679946899414\n",
      "Epoch 18/20\n"
     ]
    },
    {
     "name": "stderr",
     "output_type": "stream",
     "text": [
      "100%|██████████| 12/12 [00:00<00:00, 40.86it/s]\n",
      " 25%|██▌       | 3/12 [00:00<00:00, 29.78it/s]"
     ]
    },
    {
     "name": "stdout",
     "output_type": "stream",
     "text": [
      "Discriminator loss: 2.56968355178833\n",
      "Generator loss: 18.17877197265625\n",
      "Epoch 19/20\n"
     ]
    },
    {
     "name": "stderr",
     "output_type": "stream",
     "text": [
      "100%|██████████| 12/12 [00:00<00:00, 33.70it/s]\n",
      " 33%|███▎      | 4/12 [00:00<00:00, 38.34it/s]"
     ]
    },
    {
     "name": "stdout",
     "output_type": "stream",
     "text": [
      "Discriminator loss: 2.3508450984954834\n",
      "Generator loss: 19.799558639526367\n",
      "Epoch 20/20\n"
     ]
    },
    {
     "name": "stderr",
     "output_type": "stream",
     "text": [
      "100%|██████████| 12/12 [00:00<00:00, 36.11it/s]\n"
     ]
    },
    {
     "name": "stdout",
     "output_type": "stream",
     "text": [
      "Discriminator loss: 2.8097050189971924\n",
      "Generator loss: 18.181394577026367\n"
     ]
    }
   ],
   "source": [
    "N_EPOCHS = 20\n",
    "BATCH_SIZE = 64\n",
    "\n",
    "gan_synthetic_samples = {}\n",
    "\n",
    "for i, n_synthetic_samples in enumerate(n_synthetic_samples):\n",
    "    print(f\"Required {n_synthetic_samples} samples for class {i+1}\")\n",
    "\n",
    "    if n_synthetic_samples == 0:\n",
    "        continue\n",
    "\n",
    "    df_class = mrna_df.loc[labels['cluster.id'] == i+1]\n",
    "    train_ds = tf.data.Dataset.from_tensor_slices((df_class.values, df_class.values))\n",
    "\n",
    "    train_ds = train_ds.shuffle(buffer_size=1024).batch(BATCH_SIZE).prefetch(BATCH_SIZE)\n",
    "    train_ds = train_ds.map(lambda x, y: (tf.expand_dims(x, 1), tf.expand_dims(y, 1)))\n",
    "\n",
    "    latent_dim = 128\n",
    "    for x, y in train_ds:\n",
    "        input_shape = x.shape.as_list()[1:]\n",
    "        output_shape = y.shape.as_list()[1:]\n",
    "        print(f'Training set: {input_shape}')\n",
    "        break\n",
    "\n",
    "    loss = tf.keras.losses.BinaryCrossentropy(from_logits=True)\n",
    "    d_metrics = tf.keras.metrics.SparseCategoricalAccuracy(name='discriminator_accuracy')\n",
    "    g_metrics = tf.keras.metrics.SparseCategoricalAccuracy(name='generator_accuracy')\n",
    "    metrics = tf.keras.metrics.SparseCategoricalAccuracy(name='gan_accuracy')\n",
    "\n",
    "    g_optimizer = tf.keras.optimizers.Adam(learning_rate=0.0003)\n",
    "    d_optimizer = tf.keras.optimizers.Adam(learning_rate=0.0003)\n",
    "\n",
    "    discriminator = Discriminator(input_shape=input_shape + [1], output_shape=1)\n",
    "    discriminator.compile(loss, d_optimizer, d_metrics)\n",
    "    generator = Generator(latent_dim=latent_dim, output_shape=output_shape)\n",
    "    generator.compile(loss, g_optimizer, g_metrics)\n",
    "    gan = GAN(generator=generator, discriminator=discriminator, latent_dim=latent_dim, BATCH_SIZE=BATCH_SIZE)\n",
    "\n",
    "    gan.compile(loss, d_optimizer, g_optimizer, metrics)\n",
    "\n",
    "    for epoch in range(N_EPOCHS):\n",
    "\n",
    "        losses = {\"discriminator_loss\": 0, \"generator_loss\": 0}\n",
    "        print(f'Epoch {epoch + 1}/{N_EPOCHS}')\n",
    "        for x, y in tqdm(train_ds):\n",
    "            history = gan.train_step((x, y))\n",
    "            losses['discriminator_loss'] += history['discriminator_loss']\n",
    "            losses['generator_loss'] += history['generator_loss']\n",
    "\n",
    "        print(f\"Discriminator loss: {losses['discriminator_loss']}\")\n",
    "        print(f\"Generator loss: {losses['generator_loss']}\")\n",
    "\n",
    "    \n",
    "    gan_synthetic_samples[i+1] = []\n",
    "    for _ in range(n_synthetic_samples):\n",
    "        random_latent_vectors = tf.random.normal(shape=(1, latent_dim))\n",
    "        generated_images = gan.generator(random_latent_vectors)\n",
    "        gan_synthetic_samples[i+1].append(generated_images[0][0])\n",
    "\n",
    "\n",
    "    "
   ]
  },
  {
   "cell_type": "code",
   "execution_count": null,
   "metadata": {
    "colab": {
     "base_uri": "https://localhost:8080/"
    },
    "id": "mSdjLDRUHVll",
    "outputId": "efb4bc14-4175-448e-ae5a-034c791ef8cf"
   },
   "outputs": [
    {
     "name": "stderr",
     "output_type": "stream",
     "text": [
      "/usr/local/lib/python3.6/dist-packages/sklearn/utils/validation.py:760: DataConversionWarning: A column-vector y was passed when a 1d array was expected. Please change the shape of y to (n_samples, ), for example using ravel().\n",
      "  y = column_or_1d(y, warn=True)\n",
      "/usr/local/lib/python3.6/dist-packages/sklearn/utils/deprecation.py:87: FutureWarning: Function safe_indexing is deprecated; safe_indexing is deprecated in version 0.22 and will be removed in version 0.24.\n",
      "  warnings.warn(msg, category=FutureWarning)\n",
      "/usr/local/lib/python3.6/dist-packages/sklearn/utils/deprecation.py:87: FutureWarning: Function safe_indexing is deprecated; safe_indexing is deprecated in version 0.22 and will be removed in version 0.24.\n",
      "  warnings.warn(msg, category=FutureWarning)\n",
      "/usr/local/lib/python3.6/dist-packages/sklearn/utils/deprecation.py:87: FutureWarning: Function safe_indexing is deprecated; safe_indexing is deprecated in version 0.22 and will be removed in version 0.24.\n",
      "  warnings.warn(msg, category=FutureWarning)\n",
      "/usr/local/lib/python3.6/dist-packages/sklearn/utils/deprecation.py:87: FutureWarning: Function safe_indexing is deprecated; safe_indexing is deprecated in version 0.22 and will be removed in version 0.24.\n",
      "  warnings.warn(msg, category=FutureWarning)\n"
     ]
    }
   ],
   "source": [
    "from imblearn.over_sampling import SMOTE\n",
    "\n",
    "oversample = SMOTE()\n",
    "ds_smote, labels_smote = oversample.fit_resample(mrna_df.values, labels.values)\n",
    "\n",
    "smote_synthetic_samples = {}\n",
    "for synthetic_sample, label in zip(ds_smote[5000:], labels_smote[5000:]):\n",
    "    if label not in smote_synthetic_samples.keys():\n",
    "        smote_synthetic_samples[label] = []\n",
    "    \n",
    "    smote_synthetic_samples[label].append(synthetic_sample)\n",
    "    "
   ]
  },
  {
   "cell_type": "code",
   "execution_count": null,
   "metadata": {
    "colab": {
     "base_uri": "https://localhost:8080/",
     "height": 1000
    },
    "id": "leCF9C5AYa6A",
    "outputId": "761aa0c3-741f-449f-9754-917429180465"
   },
   "outputs": [
    {
     "name": "stdout",
     "output_type": "stream",
     "text": [
      "\tClass 2\n",
      "P-value of the test between orignal and SMOTE population 0.5799385187041434\n",
      "Orignal and SMOTE population have different distributions\n",
      "\n",
      "P-value of the test between orignal and GAN population 0.017996403265373558\n",
      "Orignal and GAN population have different distributions\n",
      "\n",
      "\tClass 3\n",
      "P-value of the test between orignal and SMOTE population 0.5168263186932777\n",
      "Orignal and SMOTE population have different distributions\n",
      "\n",
      "P-value of the test between orignal and GAN population 0.020747793764220042\n",
      "Orignal and GAN population have different distributions\n",
      "\n",
      "\tClass 4\n",
      "P-value of the test between orignal and SMOTE population 0.4670344745026936\n",
      "Orignal and SMOTE population have different distributions\n",
      "\n",
      "P-value of the test between orignal and GAN population 0.011101099325268746\n",
      "Orignal and GAN population have different distributions\n",
      "\n",
      "\tClass 5\n",
      "P-value of the test between orignal and SMOTE population 0.6250336136388249\n",
      "Orignal and SMOTE population have different distributions\n",
      "\n",
      "P-value of the test between orignal and GAN population 0.009920067678699176\n",
      "Orignal and GAN population have different distributions\n",
      "\n"
     ]
    },
    {
     "data": {
      "image/png": "[encoded data removed]",
      "text/plain": [
       "<Figure size 1440x720 with 8 Axes>"
      ]
     },
     "metadata": {
      "needs_background": "light",
      "tags": []
     },
     "output_type": "display_data"
    }
   ],
   "source": [
    "from sklearn.decomposition import PCA\n",
    "from sklearn.manifold import TSNE\n",
    "from scipy.stats import ttest_ind\n",
    "\n",
    "\n",
    "figs, axs = plt.subplots(2, 4, figsize=(20, 10))\n",
    "plt.suptitle('PCA/TSNE inspection')\n",
    "i = 0\n",
    "for label in smote_synthetic_samples.keys():\n",
    "\n",
    "    original_samples = mrna_df.loc[labels['cluster.id'] == label]\n",
    "\n",
    "    all_samples = np.concatenate([mrna_df.loc[labels['cluster.id'] == label].values, np.array(smote_synthetic_samples[label]), np.array(gan_synthetic_samples[label])])\n",
    "    n_original = len(mrna_df.loc[labels['cluster.id'] == label].values)\n",
    "    n_smote = len(np.array(smote_synthetic_samples[label]))\n",
    "    n_gan = len(np.array(gan_synthetic_samples[label]))\n",
    "\n",
    "    pca = PCA(n_components=2)\n",
    "    pca.fit(all_samples)\n",
    "\n",
    "    original_samples = pca.transform(original_samples)\n",
    "    smote_samples = pca.transform(smote_synthetic_samples[label])\n",
    "    gan_samples = pca.transform(gan_synthetic_samples[label])\n",
    "\n",
    "    axs[0, i].set_title(f'Class {label}')\n",
    "    axs[0, i].scatter(original_samples[:, 0], original_samples[:, 1], label='Original')\n",
    "    axs[0, i].scatter(smote_samples[:, 0], smote_samples[:, 1], label='SMOTE')\n",
    "    axs[0, i].scatter(gan_samples[:, 0], gan_samples[:, 1], label='GAN')\n",
    "    axs[0, i].set_xlabel('PC1')\n",
    "    axs[0, i].set_ylabel('PC2')\n",
    "\n",
    "    tsne = TSNE(n_components=2)\n",
    "    \n",
    "    tsne_samples = tsne.fit_transform(all_samples)\n",
    "\n",
    "    original_samples = tsne_samples[:n_original]\n",
    "    smote_samples = tsne_samples[n_original:(n_original+n_smote)]\n",
    "    gan_samples = tsne_samples[-n_gan:]\n",
    "\n",
    "    axs[1, i].scatter(original_samples[:, 0], original_samples[:, 1], label='Original')\n",
    "    axs[1, i].scatter(smote_samples[:, 0], smote_samples[:, 1], label='SMOTE')\n",
    "    axs[1, i].scatter(gan_samples[:, 0], gan_samples[:, 1], label='GAN')\n",
    "    axs[1, i].set_xlabel('x')\n",
    "    axs[1, i].set_ylabel('y')\n",
    "    i+=1\n",
    "\n",
    "    original_samples = mrna_df.loc[labels['cluster.id'] == label]\n",
    "    G = len(original_samples)\n",
    "    alpha = 0.05\n",
    "\n",
    "    all_genes = mrna_df.columns[1:]\n",
    "\n",
    "    print(f'\\tClass {i+1}')\n",
    "    # test between the original samples and the smote samples\n",
    "    _, p_value = ttest_ind(original_samples, smote_synthetic_samples[label], equal_var=False)\n",
    "    print(f'P-value of the test between orignal and SMOTE population {np.mean(p_value)}')\n",
    "    # if p-value < alpha we reject the hypothesis that the two population distribution have the same mean\n",
    "    if any(p_value < [alpha]*len(p_value)):\n",
    "        print('Orignal and SMOTE population have different distributions\\n')\n",
    "    else:\n",
    "        print('Orignal and SMOTE population distributions have the same mean\\n')\n",
    "\n",
    "    # test between the original samples and the smote samples\n",
    "    _, p_value = ttest_ind(original_samples, gan_synthetic_samples[label], equal_var=False)\n",
    "    print(f'P-value of the test between orignal and GAN population {np.mean(p_value)}')\n",
    "    if any(p_value < [alpha]*len(p_value)):\n",
    "        print('Orignal and GAN population have different distributions\\n')\n",
    "    else:\n",
    "        print('Orignal and GAN population distributions have the same mean\\n')\n",
    "\n",
    "\n",
    "plt.legend()\n",
    "plt.show()"
   ]
  },
  {
   "cell_type": "markdown",
   "metadata": {
    "id": "IC4NVMjJ5g5H"
   },
   "source": [
    "# Variational Autoencoder for domain translation"
   ]
  },
  {
   "cell_type": "code",
   "execution_count": null,
   "metadata": {
    "id": "w95d4BQgCf3r"
   },
   "outputs": [],
   "source": [
    "latent_dim = 256\n",
    "\n",
    "class VariationalAutoencoder(tf.keras.Model):\n",
    "    def __init__(self, encoder, decoder, beta):\n",
    "        super(VariationalAutoencoder, self).__init__()\n",
    "        self.encoder = encoder\n",
    "        self.decoder = decoder\n",
    "        self.beta = beta\n",
    "\n",
    "    def call(self, x):\n",
    "        mean, logvar = self.encoder(x)\n",
    "        self.add_loss(self.kld(mean, logvar))\n",
    "        x = self.reparametrize(mean, logvar)\n",
    "        x = self.decoder(x)\n",
    "        return x\n",
    "\n",
    "    def kld(self, mean, logvar):\n",
    "        kld = -.5*tf.reduce_sum((1 + logvar) - mean**2 - tf.exp(logvar))\n",
    "        return kld*self.beta\n",
    "\n",
    "    def reparametrize(self, mean, logvar):\n",
    "        \n",
    "        eps = tf.random.normal(shape=mean.shape.as_list())\n",
    "        x = mean + eps*tf.exp(logvar)\n",
    "        return x"
   ]
  },
  {
   "cell_type": "markdown",
   "metadata": {
    "id": "MOQxMoDyCpi6"
   },
   "source": [
    "## For mRNA dataset"
   ]
  },
  {
   "cell_type": "code",
   "execution_count": null,
   "metadata": {
    "colab": {
     "base_uri": "https://localhost:8080/"
    },
    "id": "Ju_ArU6wCpPu",
    "outputId": "0232c7cb-3025-462c-9e7b-d89413d24cc6"
   },
   "outputs": [
    {
     "name": "stdout",
     "output_type": "stream",
     "text": [
      "Input shape [64, 131]\n",
      "Output shape [64, 131]\n"
     ]
    }
   ],
   "source": [
    "mrna_ds = tf.data.Dataset.from_tensor_slices((mrna_df.values, mrna_df.values))\n",
    "#mrna_ds = mrna_ds.map(lambda v1, v2: (tf.expand_dims(v1, -1), tf.expand_dims(v2, -1)))\n",
    "mrna_ds = mrna_ds.batch(64, drop_remainder=True).prefetch(tf.data.experimental.AUTOTUNE)\n",
    "\n",
    "for x, y in mrna_ds:\n",
    "    input_shape = x.shape.as_list()\n",
    "    output_shape = y.shape.as_list()\n",
    "    break\n",
    "\n",
    "print(f'Input shape {input_shape}')\n",
    "print(f'Output shape {output_shape}')"
   ]
  },
  {
   "cell_type": "markdown",
   "metadata": {
    "id": "nTns6SFV5lwx"
   },
   "source": [
    "### Encoder model"
   ]
  },
  {
   "cell_type": "code",
   "execution_count": null,
   "metadata": {
    "colab": {
     "base_uri": "https://localhost:8080/"
    },
    "id": "ncndHxDpYcfo",
    "outputId": "226ebdf1-a8a9-42ca-b530-b09159dc21a2"
   },
   "outputs": [
    {
     "name": "stdout",
     "output_type": "stream",
     "text": [
      "Model: \"encoder_mrna\"\n",
      "__________________________________________________________________________________________________\n",
      "Layer (type)                    Output Shape         Param #     Connected to                     \n",
      "==================================================================================================\n",
      "input_15 (InputLayer)           [(None, 131)]        0                                            \n",
      "__________________________________________________________________________________________________\n",
      "reshape_27 (Reshape)            (None, 131, 1)       0           input_15[0][0]                   \n",
      "__________________________________________________________________________________________________\n",
      "conv1d_62 (Conv1D)              (None, 131, 32)      128         reshape_27[0][0]                 \n",
      "__________________________________________________________________________________________________\n",
      "max_pooling1d_14 (MaxPooling1D) (None, 65, 32)       0           conv1d_62[0][0]                  \n",
      "__________________________________________________________________________________________________\n",
      "conv1d_63 (Conv1D)              (None, 65, 64)       6208        max_pooling1d_14[0][0]           \n",
      "__________________________________________________________________________________________________\n",
      "max_pooling1d_15 (MaxPooling1D) (None, 32, 64)       0           conv1d_63[0][0]                  \n",
      "__________________________________________________________________________________________________\n",
      "conv1d_64 (Conv1D)              (None, 32, 128)      24704       max_pooling1d_15[0][0]           \n",
      "__________________________________________________________________________________________________\n",
      "flatten_7 (Flatten)             (None, 4096)         0           conv1d_64[0][0]                  \n",
      "__________________________________________________________________________________________________\n",
      "dense_44 (Dense)                (None, 256)          1048832     flatten_7[0][0]                  \n",
      "__________________________________________________________________________________________________\n",
      "dense_45 (Dense)                (None, 256)          1048832     flatten_7[0][0]                  \n",
      "==================================================================================================\n",
      "Total params: 2,128,704\n",
      "Trainable params: 2,128,704\n",
      "Non-trainable params: 0\n",
      "__________________________________________________________________________________________________\n"
     ]
    }
   ],
   "source": [
    "inputs = tf.keras.layers.Input(shape=input_shape[1:])\n",
    "x = Reshape(target_shape=(inputs.shape[1], 1))(inputs)\n",
    "x = Conv1D(32, 3, activation='relu', padding='same')(x)\n",
    "x = MaxPooling1D(pool_size=2)(x)\n",
    "x = Conv1D(64, 3, activation='relu', padding='same')(x)\n",
    "x = MaxPooling1D(pool_size=2)(x)\n",
    "x = Conv1D(128, 3, activation='relu', padding='same')(x)\n",
    "x = Flatten()(x)\n",
    "mean = Dense(units = latent_dim)(x)\n",
    "logvar = Dense(units = latent_dim)(x)\n",
    "\n",
    "encoder_mrna = tf.keras.Model(inputs=inputs, outputs=[mean, logvar], name='encoder_mrna')\n",
    "encoder_mrna.summary()"
   ]
  },
  {
   "cell_type": "markdown",
   "metadata": {
    "id": "VlLKNUKh5n7a"
   },
   "source": [
    "### Decoder model"
   ]
  },
  {
   "cell_type": "code",
   "execution_count": null,
   "metadata": {
    "colab": {
     "base_uri": "https://localhost:8080/"
    },
    "id": "FhKG0fxNYs0n",
    "outputId": "862ef7a5-5f5c-4f29-85e8-7d7f918e9ca9"
   },
   "outputs": [
    {
     "name": "stdout",
     "output_type": "stream",
     "text": [
      "Model: \"decoder_mrna\"\n",
      "_________________________________________________________________\n",
      "Layer (type)                 Output Shape              Param #   \n",
      "=================================================================\n",
      "input_16 (InputLayer)        [(None, 256)]             0         \n",
      "_________________________________________________________________\n",
      "reshape_28 (Reshape)         (None, 16, 16)            0         \n",
      "_________________________________________________________________\n",
      "conv1d_65 (Conv1D)           (None, 16, 128)           6272      \n",
      "_________________________________________________________________\n",
      "up_sampling1d_18 (UpSampling (None, 32, 128)           0         \n",
      "_________________________________________________________________\n",
      "conv1d_66 (Conv1D)           (None, 32, 64)            24640     \n",
      "_________________________________________________________________\n",
      "up_sampling1d_19 (UpSampling (None, 64, 64)            0         \n",
      "_________________________________________________________________\n",
      "conv1d_67 (Conv1D)           (None, 64, 32)            6176      \n",
      "_________________________________________________________________\n",
      "up_sampling1d_20 (UpSampling (None, 128, 32)           0         \n",
      "_________________________________________________________________\n",
      "conv1d_68 (Conv1D)           (None, 128, 16)           1552      \n",
      "_________________________________________________________________\n",
      "reshape_29 (Reshape)         (None, 2048)              0         \n",
      "_________________________________________________________________\n",
      "dense_46 (Dense)             (None, 131)               268419    \n",
      "=================================================================\n",
      "Total params: 307,059\n",
      "Trainable params: 307,059\n",
      "Non-trainable params: 0\n",
      "_________________________________________________________________\n"
     ]
    }
   ],
   "source": [
    "inputs = tf.keras.layers.Input(shape=[latent_dim])\n",
    "x = Reshape(target_shape=(16, 16))(inputs)\n",
    "x = Conv1D(128, 3, activation='relu', padding='same')(x)\n",
    "x = UpSampling1D(2)(x)\n",
    "x = Conv1D(64, 3, activation='relu', padding='same')(x)\n",
    "x = UpSampling1D(2)(x)\n",
    "x = Conv1D(32, 3, activation='relu', padding='same')(x)\n",
    "x = UpSampling1D(2)(x)\n",
    "x = Conv1D(16, 3, activation='relu', padding='same')(x)\n",
    "x = Reshape(target_shape=(x.shape[1]*x.shape[2],))(x)\n",
    "x = Dense(output_shape[1])(x)\n",
    "decoder_mrna = tf.keras.Model(inputs=inputs, outputs=x, name='decoder_mrna')\n",
    "\n",
    "decoder_mrna.summary()"
   ]
  },
  {
   "cell_type": "code",
   "execution_count": null,
   "metadata": {
    "colab": {
     "base_uri": "https://localhost:8080/"
    },
    "id": "81lDaPqp6Tvl",
    "outputId": "3f6c61b9-143b-43d8-bbe2-28f76fa5589e"
   },
   "outputs": [
    {
     "name": "stdout",
     "output_type": "stream",
     "text": [
      "Epoch 1/20\n",
      "78/78 [==============================] - 2s 7ms/step - loss: 23.6652 - mean_squared_error: 3.6895\n",
      "Epoch 2/20\n",
      "78/78 [==============================] - 0s 6ms/step - loss: 4.2498 - mean_squared_error: 1.7632\n",
      "Epoch 3/20\n",
      "78/78 [==============================] - 0s 6ms/step - loss: 3.2867 - mean_squared_error: 1.7471\n",
      "Epoch 4/20\n",
      "78/78 [==============================] - 0s 6ms/step - loss: 2.7995 - mean_squared_error: 1.7406\n",
      "Epoch 5/20\n",
      "78/78 [==============================] - 1s 7ms/step - loss: 2.5038 - mean_squared_error: 1.7338\n",
      "Epoch 6/20\n",
      "78/78 [==============================] - 1s 7ms/step - loss: 2.3151 - mean_squared_error: 1.7290\n",
      "Epoch 7/20\n",
      "78/78 [==============================] - 1s 7ms/step - loss: 2.1885 - mean_squared_error: 1.7270\n",
      "Epoch 8/20\n",
      "78/78 [==============================] - 1s 7ms/step - loss: 2.0967 - mean_squared_error: 1.7241\n",
      "Epoch 9/20\n",
      "78/78 [==============================] - 1s 7ms/step - loss: 2.0317 - mean_squared_error: 1.7250\n",
      "Epoch 10/20\n",
      "78/78 [==============================] - 1s 7ms/step - loss: 1.9794 - mean_squared_error: 1.7237\n",
      "Epoch 11/20\n",
      "78/78 [==============================] - 0s 6ms/step - loss: 1.9351 - mean_squared_error: 1.7212\n",
      "Epoch 12/20\n",
      "78/78 [==============================] - 0s 6ms/step - loss: 1.8952 - mean_squared_error: 1.7205\n",
      "Epoch 13/20\n",
      "78/78 [==============================] - 1s 6ms/step - loss: 1.8584 - mean_squared_error: 1.7200\n",
      "Epoch 14/20\n",
      "78/78 [==============================] - 0s 6ms/step - loss: 1.8142 - mean_squared_error: 1.7184\n",
      "Epoch 15/20\n",
      "78/78 [==============================] - 0s 6ms/step - loss: 1.7256 - mean_squared_error: 1.7191\n",
      "Epoch 16/20\n",
      "78/78 [==============================] - 1s 6ms/step - loss: 1.7208 - mean_squared_error: 1.7195\n",
      "Epoch 17/20\n",
      "78/78 [==============================] - 1s 7ms/step - loss: 1.7182 - mean_squared_error: 1.7177\n",
      "Epoch 18/20\n",
      "78/78 [==============================] - 1s 7ms/step - loss: 1.7182 - mean_squared_error: 1.7179\n",
      "Epoch 19/20\n",
      "78/78 [==============================] - 0s 6ms/step - loss: 1.7174 - mean_squared_error: 1.7172\n",
      "Epoch 20/20\n",
      "78/78 [==============================] - 0s 6ms/step - loss: 1.7174 - mean_squared_error: 1.7173\n"
     ]
    }
   ],
   "source": [
    "vae_mrna = VariationalAutoencoder(encoder=encoder_mrna, decoder=decoder_mrna, beta=0.1)\n",
    "\n",
    "loss =  tf.keras.losses.MeanSquaredError()\n",
    "optimizer = tf.keras.optimizers.Adam(learning_rate=0.0001)\n",
    "metrics = tf.keras.metrics.MeanSquaredError()\n",
    "vae_mrna.compile(loss=loss, optimizer=optimizer, metrics=metrics)\n",
    "\n",
    "N_EPOCHS = 20\n",
    "history = vae_mrna.fit(mrna_ds, epochs=N_EPOCHS)"
   ]
  },
  {
   "cell_type": "markdown",
   "metadata": {
    "id": "d0joe6jAMzWZ"
   },
   "source": [
    "## For Meth dataset"
   ]
  },
  {
   "cell_type": "code",
   "execution_count": null,
   "metadata": {
    "colab": {
     "base_uri": "https://localhost:8080/"
    },
    "id": "OIRhYZOvM8HD",
    "outputId": "4bef4bc7-547e-422a-f787-18a323b24f16"
   },
   "outputs": [
    {
     "name": "stdout",
     "output_type": "stream",
     "text": [
      "Input shape [64, 367]\n",
      "Output shape [64, 367]\n"
     ]
    }
   ],
   "source": [
    "meth_ds = tf.data.Dataset.from_tensor_slices((meth_df.values, meth_df.values))\n",
    "meth_ds = meth_ds.batch(64, drop_remainder=True).prefetch(tf.data.experimental.AUTOTUNE)\n",
    "\n",
    "for x, y in meth_ds:\n",
    "    input_shape = x.shape.as_list()\n",
    "    output_shape = y.shape.as_list()\n",
    "    \n",
    "    break\n",
    "\n",
    "print(f'Input shape {input_shape}')\n",
    "print(f'Output shape {output_shape}')"
   ]
  },
  {
   "cell_type": "markdown",
   "metadata": {
    "id": "w2Q9jE_eC5eO"
   },
   "source": [
    "### Encoder"
   ]
  },
  {
   "cell_type": "code",
   "execution_count": null,
   "metadata": {
    "colab": {
     "base_uri": "https://localhost:8080/"
    },
    "id": "DW8-JhrAC5KU",
    "outputId": "6012021d-4e1a-4346-be3e-e82db60dfbfb"
   },
   "outputs": [
    {
     "name": "stdout",
     "output_type": "stream",
     "text": [
      "Model: \"encoder_meth\"\n",
      "__________________________________________________________________________________________________\n",
      "Layer (type)                    Output Shape         Param #     Connected to                     \n",
      "==================================================================================================\n",
      "input_17 (InputLayer)           [(None, 367)]        0                                            \n",
      "__________________________________________________________________________________________________\n",
      "reshape_30 (Reshape)            (None, 367, 1)       0           input_17[0][0]                   \n",
      "__________________________________________________________________________________________________\n",
      "conv1d_69 (Conv1D)              (None, 367, 32)      128         reshape_30[0][0]                 \n",
      "__________________________________________________________________________________________________\n",
      "max_pooling1d_16 (MaxPooling1D) (None, 183, 32)      0           conv1d_69[0][0]                  \n",
      "__________________________________________________________________________________________________\n",
      "conv1d_70 (Conv1D)              (None, 183, 64)      6208        max_pooling1d_16[0][0]           \n",
      "__________________________________________________________________________________________________\n",
      "max_pooling1d_17 (MaxPooling1D) (None, 91, 64)       0           conv1d_70[0][0]                  \n",
      "__________________________________________________________________________________________________\n",
      "conv1d_71 (Conv1D)              (None, 91, 128)      24704       max_pooling1d_17[0][0]           \n",
      "__________________________________________________________________________________________________\n",
      "flatten_8 (Flatten)             (None, 11648)        0           conv1d_71[0][0]                  \n",
      "__________________________________________________________________________________________________\n",
      "dense_47 (Dense)                (None, 256)          2982144     flatten_8[0][0]                  \n",
      "__________________________________________________________________________________________________\n",
      "dense_48 (Dense)                (None, 256)          2982144     flatten_8[0][0]                  \n",
      "==================================================================================================\n",
      "Total params: 5,995,328\n",
      "Trainable params: 5,995,328\n",
      "Non-trainable params: 0\n",
      "__________________________________________________________________________________________________\n"
     ]
    }
   ],
   "source": [
    "inputs = tf.keras.layers.Input(shape=input_shape[1:])\n",
    "x = Reshape(target_shape=(inputs.shape[1], 1))(inputs)\n",
    "x = Conv1D(32, 3, activation='relu', padding='same')(x)\n",
    "x = MaxPooling1D(pool_size=2)(x)\n",
    "x = Conv1D(64, 3, activation='relu', padding='same')(x)\n",
    "x = MaxPooling1D(pool_size=2)(x)\n",
    "x = Conv1D(128, 3, activation='relu', padding='same')(x)\n",
    "x = Flatten()(x)\n",
    "mean = Dense(units = latent_dim)(x)\n",
    "logvar = Dense(units = latent_dim)(x)\n",
    "\n",
    "encoder_meth = tf.keras.Model(inputs=inputs, outputs=[mean, logvar], name='encoder_meth')\n",
    "encoder_meth.summary()"
   ]
  },
  {
   "cell_type": "markdown",
   "metadata": {
    "id": "Uk9vYGNsC4zl"
   },
   "source": [
    "### Decoder"
   ]
  },
  {
   "cell_type": "code",
   "execution_count": null,
   "metadata": {
    "colab": {
     "base_uri": "https://localhost:8080/"
    },
    "id": "yOjE6V_KC4hx",
    "outputId": "35fe3c4e-69a7-4cf8-eeef-7a18bddd82cf"
   },
   "outputs": [
    {
     "name": "stdout",
     "output_type": "stream",
     "text": [
      "Model: \"decoder_meth\"\n",
      "_________________________________________________________________\n",
      "Layer (type)                 Output Shape              Param #   \n",
      "=================================================================\n",
      "input_18 (InputLayer)        [(None, 256)]             0         \n",
      "_________________________________________________________________\n",
      "reshape_31 (Reshape)         (None, 16, 16)            0         \n",
      "_________________________________________________________________\n",
      "conv1d_72 (Conv1D)           (None, 16, 128)           6272      \n",
      "_________________________________________________________________\n",
      "up_sampling1d_21 (UpSampling (None, 32, 128)           0         \n",
      "_________________________________________________________________\n",
      "conv1d_73 (Conv1D)           (None, 32, 64)            24640     \n",
      "_________________________________________________________________\n",
      "up_sampling1d_22 (UpSampling (None, 64, 64)            0         \n",
      "_________________________________________________________________\n",
      "conv1d_74 (Conv1D)           (None, 64, 32)            6176      \n",
      "_________________________________________________________________\n",
      "up_sampling1d_23 (UpSampling (None, 128, 32)           0         \n",
      "_________________________________________________________________\n",
      "conv1d_75 (Conv1D)           (None, 128, 16)           1552      \n",
      "_________________________________________________________________\n",
      "reshape_32 (Reshape)         (None, 2048)              0         \n",
      "_________________________________________________________________\n",
      "dense_49 (Dense)             (None, 367)               751983    \n",
      "=================================================================\n",
      "Total params: 790,623\n",
      "Trainable params: 790,623\n",
      "Non-trainable params: 0\n",
      "_________________________________________________________________\n"
     ]
    }
   ],
   "source": [
    "inputs = tf.keras.layers.Input(shape=[latent_dim])\n",
    "x = Reshape(target_shape=(16, 16))(inputs)\n",
    "x = Conv1D(128, 3, activation='relu', padding='same')(x)\n",
    "x = UpSampling1D(2)(x)\n",
    "x = Conv1D(64, 3, activation='relu', padding='same')(x)\n",
    "x = UpSampling1D(2)(x)\n",
    "x = Conv1D(32, 3, activation='relu', padding='same')(x)\n",
    "x = UpSampling1D(2)(x)\n",
    "x = Conv1D(16, 3, activation='relu', padding='same')(x)\n",
    "x = Reshape(target_shape=(x.shape[1]*x.shape[2],))(x)\n",
    "x = Dense(output_shape[1])(x)\n",
    "decoder_meth = tf.keras.Model(inputs=inputs, outputs=x, name='decoder_meth')\n",
    "\n",
    "decoder_meth.summary()"
   ]
  },
  {
   "cell_type": "code",
   "execution_count": null,
   "metadata": {
    "colab": {
     "base_uri": "https://localhost:8080/"
    },
    "id": "X_BCrsW1Eb8X",
    "outputId": "0f1c4290-4786-4853-987c-c1b0f97d49e2"
   },
   "outputs": [
    {
     "name": "stdout",
     "output_type": "stream",
     "text": [
      "Epoch 1/20\n",
      "78/78 [==============================] - 2s 8ms/step - loss: 0.4228 - mean_squared_error: 0.1373\n",
      "Epoch 2/20\n",
      "78/78 [==============================] - 1s 8ms/step - loss: 0.0555 - mean_squared_error: 0.0331\n",
      "Epoch 3/20\n",
      "78/78 [==============================] - 1s 8ms/step - loss: 0.0430 - mean_squared_error: 0.0284\n",
      "Epoch 4/20\n",
      "78/78 [==============================] - 1s 7ms/step - loss: 0.0371 - mean_squared_error: 0.0271\n",
      "Epoch 5/20\n",
      "78/78 [==============================] - 1s 8ms/step - loss: 0.0339 - mean_squared_error: 0.0265\n",
      "Epoch 6/20\n",
      "78/78 [==============================] - 1s 7ms/step - loss: 0.0320 - mean_squared_error: 0.0262\n",
      "Epoch 7/20\n",
      "78/78 [==============================] - 1s 7ms/step - loss: 0.0307 - mean_squared_error: 0.0259\n",
      "Epoch 8/20\n",
      "78/78 [==============================] - 1s 8ms/step - loss: 0.0298 - mean_squared_error: 0.0257\n",
      "Epoch 9/20\n",
      "78/78 [==============================] - 1s 7ms/step - loss: 0.0292 - mean_squared_error: 0.0257\n",
      "Epoch 10/20\n",
      "78/78 [==============================] - 1s 7ms/step - loss: 0.0287 - mean_squared_error: 0.0255\n",
      "Epoch 11/20\n",
      "78/78 [==============================] - 1s 7ms/step - loss: 0.0283 - mean_squared_error: 0.0255\n",
      "Epoch 12/20\n",
      "78/78 [==============================] - 1s 8ms/step - loss: 0.0280 - mean_squared_error: 0.0254\n",
      "Epoch 13/20\n",
      "78/78 [==============================] - 1s 8ms/step - loss: 0.0277 - mean_squared_error: 0.0253\n",
      "Epoch 14/20\n",
      "78/78 [==============================] - 1s 8ms/step - loss: 0.0274 - mean_squared_error: 0.0253\n",
      "Epoch 15/20\n",
      "78/78 [==============================] - 1s 7ms/step - loss: 0.0272 - mean_squared_error: 0.0253\n",
      "Epoch 16/20\n",
      "78/78 [==============================] - 1s 7ms/step - loss: 0.0270 - mean_squared_error: 0.0252\n",
      "Epoch 17/20\n",
      "78/78 [==============================] - 1s 7ms/step - loss: 0.0269 - mean_squared_error: 0.0252\n",
      "Epoch 18/20\n",
      "78/78 [==============================] - 1s 7ms/step - loss: 0.0267 - mean_squared_error: 0.0251\n",
      "Epoch 19/20\n",
      "78/78 [==============================] - 1s 7ms/step - loss: 0.0266 - mean_squared_error: 0.0251\n",
      "Epoch 20/20\n",
      "78/78 [==============================] - 1s 8ms/step - loss: 0.0265 - mean_squared_error: 0.0251\n"
     ]
    }
   ],
   "source": [
    "vae_meth = VariationalAutoencoder(encoder=encoder_meth, decoder=decoder_meth, beta=0.1)\n",
    "\n",
    "loss =  tf.keras.losses.MeanSquaredError()\n",
    "optimizer = tf.keras.optimizers.Adam(learning_rate=0.0001)\n",
    "metrics = tf.keras.metrics.MeanSquaredError()\n",
    "vae_meth.compile(loss=loss, optimizer=optimizer, metrics=metrics)\n",
    "\n",
    "N_EPOCHS = 20\n",
    "history = vae_meth.fit(meth_ds, epochs=N_EPOCHS)"
   ]
  },
  {
   "cell_type": "markdown",
   "metadata": {
    "id": "1jGC_Sh2M9nw"
   },
   "source": [
    "## For proteome dataset"
   ]
  },
  {
   "cell_type": "code",
   "execution_count": null,
   "metadata": {
    "colab": {
     "base_uri": "https://localhost:8080/"
    },
    "id": "mraT2Ot5NicI",
    "outputId": "ce702b23-93af-4835-e8c3-a3bbeb59b02c"
   },
   "outputs": [
    {
     "name": "stdout",
     "output_type": "stream",
     "text": [
      "Input shape [64, 160]\n",
      "Output shape [64, 160]\n"
     ]
    }
   ],
   "source": [
    "prot_ds = tf.data.Dataset.from_tensor_slices((prot_df.values, prot_df.values))\n",
    "prot_ds = prot_ds.batch(64, drop_remainder=True).prefetch(tf.data.experimental.AUTOTUNE)\n",
    "\n",
    "for x, y in prot_ds:\n",
    "    input_shape = x.shape.as_list()\n",
    "    output_shape = y.shape.as_list()\n",
    "    break\n",
    "\n",
    "print(f'Input shape {input_shape}')\n",
    "print(f'Output shape {output_shape}')"
   ]
  },
  {
   "cell_type": "markdown",
   "metadata": {
    "id": "r86DhjJbExcL"
   },
   "source": [
    "### Encoder"
   ]
  },
  {
   "cell_type": "code",
   "execution_count": null,
   "metadata": {
    "colab": {
     "base_uri": "https://localhost:8080/"
    },
    "id": "8fQtqandE4OS",
    "outputId": "ac8b48ca-3bc4-4665-b2b4-2ecb3df29400"
   },
   "outputs": [
    {
     "name": "stdout",
     "output_type": "stream",
     "text": [
      "Model: \"encoder_prot\"\n",
      "__________________________________________________________________________________________________\n",
      "Layer (type)                    Output Shape         Param #     Connected to                     \n",
      "==================================================================================================\n",
      "input_19 (InputLayer)           [(None, 160)]        0                                            \n",
      "__________________________________________________________________________________________________\n",
      "reshape_33 (Reshape)            (None, 160, 1)       0           input_19[0][0]                   \n",
      "__________________________________________________________________________________________________\n",
      "conv1d_76 (Conv1D)              (None, 160, 32)      128         reshape_33[0][0]                 \n",
      "__________________________________________________________________________________________________\n",
      "max_pooling1d_18 (MaxPooling1D) (None, 80, 32)       0           conv1d_76[0][0]                  \n",
      "__________________________________________________________________________________________________\n",
      "conv1d_77 (Conv1D)              (None, 80, 64)       6208        max_pooling1d_18[0][0]           \n",
      "__________________________________________________________________________________________________\n",
      "max_pooling1d_19 (MaxPooling1D) (None, 40, 64)       0           conv1d_77[0][0]                  \n",
      "__________________________________________________________________________________________________\n",
      "conv1d_78 (Conv1D)              (None, 40, 128)      24704       max_pooling1d_19[0][0]           \n",
      "__________________________________________________________________________________________________\n",
      "flatten_9 (Flatten)             (None, 5120)         0           conv1d_78[0][0]                  \n",
      "__________________________________________________________________________________________________\n",
      "dense_50 (Dense)                (None, 256)          1310976     flatten_9[0][0]                  \n",
      "__________________________________________________________________________________________________\n",
      "dense_51 (Dense)                (None, 256)          1310976     flatten_9[0][0]                  \n",
      "==================================================================================================\n",
      "Total params: 2,652,992\n",
      "Trainable params: 2,652,992\n",
      "Non-trainable params: 0\n",
      "__________________________________________________________________________________________________\n"
     ]
    }
   ],
   "source": [
    "inputs = tf.keras.layers.Input(shape=input_shape[1:])\n",
    "x = Reshape(target_shape=(inputs.shape[1], 1))(inputs)\n",
    "x = Conv1D(32, 3, activation='relu', padding='same')(x)\n",
    "x = MaxPooling1D(pool_size=2)(x)\n",
    "x = Conv1D(64, 3, activation='relu', padding='same')(x)\n",
    "x = MaxPooling1D(pool_size=2)(x)\n",
    "x = Conv1D(128, 3, activation='relu', padding='same')(x)\n",
    "x = Flatten()(x)\n",
    "mean = Dense(units = latent_dim)(x)\n",
    "logvar = Dense(units = latent_dim)(x)\n",
    "\n",
    "encoder_prot = tf.keras.Model(inputs=inputs, outputs=[mean, logvar], name='encoder_prot')\n",
    "encoder_prot.summary()"
   ]
  },
  {
   "cell_type": "markdown",
   "metadata": {
    "id": "TpY7xk8OExWl"
   },
   "source": [
    "### Decoder"
   ]
  },
  {
   "cell_type": "code",
   "execution_count": null,
   "metadata": {
    "colab": {
     "base_uri": "https://localhost:8080/"
    },
    "id": "urM2v-uaE0lu",
    "outputId": "48702b87-85c6-4bb6-db4a-a0ee95dd7039"
   },
   "outputs": [
    {
     "name": "stdout",
     "output_type": "stream",
     "text": [
      "Model: \"decoder_prot\"\n",
      "_________________________________________________________________\n",
      "Layer (type)                 Output Shape              Param #   \n",
      "=================================================================\n",
      "input_20 (InputLayer)        [(None, 256)]             0         \n",
      "_________________________________________________________________\n",
      "reshape_34 (Reshape)         (None, 16, 16)            0         \n",
      "_________________________________________________________________\n",
      "conv1d_79 (Conv1D)           (None, 16, 128)           6272      \n",
      "_________________________________________________________________\n",
      "up_sampling1d_24 (UpSampling (None, 32, 128)           0         \n",
      "_________________________________________________________________\n",
      "conv1d_80 (Conv1D)           (None, 32, 64)            24640     \n",
      "_________________________________________________________________\n",
      "up_sampling1d_25 (UpSampling (None, 64, 64)            0         \n",
      "_________________________________________________________________\n",
      "conv1d_81 (Conv1D)           (None, 64, 32)            6176      \n",
      "_________________________________________________________________\n",
      "up_sampling1d_26 (UpSampling (None, 128, 32)           0         \n",
      "_________________________________________________________________\n",
      "conv1d_82 (Conv1D)           (None, 128, 16)           1552      \n",
      "_________________________________________________________________\n",
      "reshape_35 (Reshape)         (None, 2048)              0         \n",
      "_________________________________________________________________\n",
      "dense_52 (Dense)             (None, 160)               327840    \n",
      "=================================================================\n",
      "Total params: 366,480\n",
      "Trainable params: 366,480\n",
      "Non-trainable params: 0\n",
      "_________________________________________________________________\n"
     ]
    }
   ],
   "source": [
    "inputs = tf.keras.layers.Input(shape=[latent_dim])\n",
    "x = Reshape(target_shape=(16, 16))(inputs)\n",
    "x = Conv1D(128, 3, activation='relu', padding='same')(x)\n",
    "x = UpSampling1D(2)(x)\n",
    "x = Conv1D(64, 3, activation='relu', padding='same')(x)\n",
    "x = UpSampling1D(2)(x)\n",
    "x = Conv1D(32, 3, activation='relu', padding='same')(x)\n",
    "x = UpSampling1D(2)(x)\n",
    "x = Conv1D(16, 3, activation='relu', padding='same')(x)\n",
    "x = Reshape(target_shape=(x.shape[1]*x.shape[2],))(x)\n",
    "x = Dense(output_shape[1])(x)\n",
    "decoder_prot = tf.keras.Model(inputs=inputs, outputs=x, name='decoder_prot')\n",
    "\n",
    "decoder_prot.summary()"
   ]
  },
  {
   "cell_type": "code",
   "execution_count": null,
   "metadata": {
    "colab": {
     "base_uri": "https://localhost:8080/"
    },
    "id": "grpBNkogFBlK",
    "outputId": "b048707a-4e77-4fe4-a0a3-f151bede16b8"
   },
   "outputs": [
    {
     "name": "stdout",
     "output_type": "stream",
     "text": [
      "Epoch 1/20\n",
      "78/78 [==============================] - 2s 7ms/step - loss: 20.3995 - mean_squared_error: 2.5384\n",
      "Epoch 2/20\n",
      "78/78 [==============================] - 0s 6ms/step - loss: 3.0885 - mean_squared_error: 1.4367\n",
      "Epoch 3/20\n",
      "78/78 [==============================] - 0s 6ms/step - loss: 2.4737 - mean_squared_error: 1.4275\n",
      "Epoch 4/20\n",
      "78/78 [==============================] - 1s 7ms/step - loss: 2.1512 - mean_squared_error: 1.4219\n",
      "Epoch 5/20\n",
      "78/78 [==============================] - 1s 7ms/step - loss: 1.9685 - mean_squared_error: 1.4187\n",
      "Epoch 6/20\n",
      "78/78 [==============================] - 1s 7ms/step - loss: 1.8559 - mean_squared_error: 1.4170\n",
      "Epoch 7/20\n",
      "78/78 [==============================] - 1s 7ms/step - loss: 1.7804 - mean_squared_error: 1.4167\n",
      "Epoch 8/20\n",
      "78/78 [==============================] - 1s 7ms/step - loss: 1.7228 - mean_squared_error: 1.4141\n",
      "Epoch 9/20\n",
      "78/78 [==============================] - 1s 7ms/step - loss: 1.6797 - mean_squared_error: 1.4132\n",
      "Epoch 10/20\n",
      "78/78 [==============================] - 0s 6ms/step - loss: 1.6461 - mean_squared_error: 1.4130\n",
      "Epoch 11/20\n",
      "78/78 [==============================] - 0s 6ms/step - loss: 1.6188 - mean_squared_error: 1.4127\n",
      "Epoch 12/20\n",
      "78/78 [==============================] - 0s 6ms/step - loss: 1.5959 - mean_squared_error: 1.4118\n",
      "Epoch 13/20\n",
      "78/78 [==============================] - 1s 7ms/step - loss: 1.5772 - mean_squared_error: 1.4114\n",
      "Epoch 14/20\n",
      "78/78 [==============================] - 1s 7ms/step - loss: 1.5617 - mean_squared_error: 1.4113\n",
      "Epoch 15/20\n",
      "78/78 [==============================] - 1s 7ms/step - loss: 1.5477 - mean_squared_error: 1.4103\n",
      "Epoch 16/20\n",
      "78/78 [==============================] - 1s 6ms/step - loss: 1.5365 - mean_squared_error: 1.4106\n",
      "Epoch 17/20\n",
      "78/78 [==============================] - 0s 6ms/step - loss: 1.5258 - mean_squared_error: 1.4097\n",
      "Epoch 18/20\n",
      "78/78 [==============================] - 0s 6ms/step - loss: 1.5170 - mean_squared_error: 1.4097\n",
      "Epoch 19/20\n",
      "78/78 [==============================] - 0s 6ms/step - loss: 1.5093 - mean_squared_error: 1.4099\n",
      "Epoch 20/20\n",
      "78/78 [==============================] - 0s 6ms/step - loss: 1.5010 - mean_squared_error: 1.4084\n"
     ]
    }
   ],
   "source": [
    "vae_proth = VariationalAutoencoder(encoder=encoder_prot, decoder=decoder_prot, beta=0.1)\n",
    "\n",
    "loss =  tf.keras.losses.MeanSquaredError()\n",
    "optimizer = tf.keras.optimizers.Adam(learning_rate=0.0001)\n",
    "metrics = tf.keras.metrics.MeanSquaredError()\n",
    "vae_proth.compile(loss=loss, optimizer=optimizer, metrics=metrics)\n",
    "\n",
    "N_EPOCHS = 20\n",
    "history = vae_proth.fit(prot_ds, epochs=N_EPOCHS)"
   ]
  },
  {
   "cell_type": "markdown",
   "metadata": {
    "id": "-hEOgiJdMEhY"
   },
   "source": [
    "## Domain translation: from mRNA to Meth samples"
   ]
  },
  {
   "cell_type": "code",
   "execution_count": null,
   "metadata": {
    "colab": {
     "base_uri": "https://localhost:8080/",
     "height": 336
    },
    "id": "Mh7qW0YhGB1i",
    "outputId": "75a4bafc-64ba-4706-854d-7d93a213ed2c"
   },
   "outputs": [
    {
     "data": {
      "image/png": "[encoded data removed]",
      "text/plain": [
       "<Figure size 1080x360 with 2 Axes>"
      ]
     },
     "metadata": {
      "needs_background": "light",
      "tags": []
     },
     "output_type": "display_data"
    }
   ],
   "source": [
    "# Perform the domain translation using the encoder for mRNA and the decoder for meth samples.\n",
    "mrna_to_meth = VariationalAutoencoder(encoder=encoder_mrna, decoder=decoder_meth, beta=0.1)\n",
    "\n",
    "loss =  tf.keras.losses.MeanSquaredError()\n",
    "optimizer = tf.keras.optimizers.Adam(learning_rate=0.0001)\n",
    "metrics = tf.keras.metrics.MeanSquaredError()\n",
    "mrna_to_meth.compile(loss=loss, optimizer=optimizer, metrics=metrics)\n",
    "\n",
    "new_mrna_samples = mrna_to_meth.predict(mrna_ds)\n",
    "\n",
    "all_samples = np.concatenate([meth_df.values, new_mrna_samples], axis=0)\n",
    "tse = TSNE(n_components=2)\n",
    "all_samples_tsne = tsne.fit_transform(all_samples)\n",
    "\n",
    "all_samples = np.concatenate([meth_df.values, new_mrna_samples], axis=0)\n",
    "pca = PCA(n_components=2)\n",
    "all_samples_pca = pca.fit_transform(all_samples)\n",
    "\n",
    "figs, axs = plt.subplots(1, 2, figsize=(15, 5))\n",
    "\n",
    "axs[0].scatter(all_samples_tsne[:5000, 0], all_samples_tsne[:5000, 1], label='original meth samples')\n",
    "axs[0].scatter(all_samples_tsne[5000:, 0], all_samples_tsne[5000:, 1], label='sysnthetic meth samples')\n",
    "axs[0].set_title('TSE')\n",
    "axs[0].grid()\n",
    "axs[1].scatter(all_samples_pca[:5000, 0], all_samples_pca[:5000, 1], label='original meth samples')\n",
    "axs[1].scatter(all_samples_pca[5000:, 0], all_samples_pca[5000:, 1], label='sysnthetic meth samples')\n",
    "axs[1].set_title('PCA')\n",
    "axs[1].grid()\n",
    "plt.legend()\n",
    "plt.show()\n"
   ]
  },
  {
   "cell_type": "code",
   "execution_count": null,
   "metadata": {
    "id": "a63Q32tZsCYi"
   },
   "outputs": [],
   "source": []
  }
 ],
 "metadata": {
  "accelerator": "GPU",
  "colab": {
   "collapsed_sections": [],
   "name": "Bioinformatics_Lab10.ipynb",
   "provenance": [],
   "toc_visible": true
  },
  "kernelspec": {
   "display_name": "Python 3",
   "language": "python",
   "name": "python3"
  },
  "language_info": {
   "codemirror_mode": {
    "name": "ipython",
    "version": 3
   },
   "file_extension": ".py",
   "mimetype": "text/x-python",
   "name": "python",
   "nbconvert_exporter": "python",
   "pygments_lexer": "ipython3",
   "version": "3.8.6"
  }
 },
 "nbformat": 4,
 "nbformat_minor": 1
}
